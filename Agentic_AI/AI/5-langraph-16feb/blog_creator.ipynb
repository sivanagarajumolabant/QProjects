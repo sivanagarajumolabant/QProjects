{
 "cells": [
  {
   "cell_type": "code",
   "execution_count": 1,
   "metadata": {},
   "outputs": [],
   "source": [
    "import os\n",
    "from dotenv import load_dotenv\n",
    "load_dotenv()\n",
    "\n",
    "os.environ[\"GROQ_API_KEY\"]=os.getenv(\"GROQ_API_KEY\")\n",
    "os.environ[\"OPENAI_API_KEY\"]=os.getenv(\"OPENAI_API_KEY\")"
   ]
  },
  {
   "cell_type": "code",
   "execution_count": 4,
   "metadata": {},
   "outputs": [],
   "source": [
    "from langchain_openai import ChatOpenAI\n",
    "llm=ChatOpenAI(model=\"gpt-4o\")"
   ]
  },
  {
   "cell_type": "code",
   "execution_count": 5,
   "metadata": {},
   "outputs": [],
   "source": [
    "from typing_extensions import TypedDict\n",
    "from langchain_core.messages import AnyMessage\n",
    "from typing import Annotated\n",
    "from langgraph.graph.message import add_messages\n",
    "\n",
    "class MessagesState(TypedDict):\n",
    "    messages:Annotated[list[AnyMessage],add_messages]"
   ]
  },
  {
   "cell_type": "code",
   "execution_count": 8,
   "metadata": {},
   "outputs": [],
   "source": [
    "from langchain_core.messages import HumanMessage, SystemMessage\n",
    "\n",
    "# System message\n",
    "title_creator_sys_msg = SystemMessage(content=\"You are a helpful assistant tasked with performing to create blog title for the provided the text.\")\n",
    "\n",
    "def title_creator(state:MessagesState):\n",
    "    return {\"messages\":[llm.invoke([title_creator_sys_msg] + state[\"messages\"])]}\n",
    "\n",
    "content_creator_sys_msg = SystemMessage(content=\"You are a helpful assistant tasked with performing to create blog content for the given title\")\n",
    "def content_creator(state:MessagesState):\n",
    "    return {\"messages\":[llm.invoke([content_creator_sys_msg] + state[\"messages\"])]}"
   ]
  },
  {
   "cell_type": "code",
   "execution_count": 11,
   "metadata": {},
   "outputs": [
    {
     "data": {
      "image/png": "[encoded data removed]",
      "text/plain": [
       "<IPython.core.display.Image object>"
      ]
     },
     "metadata": {},
     "output_type": "display_data"
    }
   ],
   "source": [
    "from langgraph.graph import START, StateGraph, END\n",
    "from IPython.display import Image, display\n",
    "\n",
    "\n",
    "builder=StateGraph(MessagesState)\n",
    "\n",
    "## Define the node\n",
    "builder.add_node(\"title_creator\",title_creator)\n",
    "builder.add_node(\"content_creator\",content_creator)\n",
    "\n",
    "## Define the edges\n",
    "builder.add_edge(START,\"title_creator\")\n",
    "builder.add_edge(\"title_creator\",\"content_creator\")\n",
    "builder.add_edge(\"content_creator\",END)\n",
    "react_graph=builder.compile()\n",
    "# Show\n",
    "display(Image(react_graph.get_graph().draw_mermaid_png()))"
   ]
  },
  {
   "cell_type": "code",
   "execution_count": 12,
   "metadata": {},
   "outputs": [],
   "source": [
    "messages = [HumanMessage(content=\"what is machine learning?\")]\n",
    "messages = react_graph.invoke({\"messages\": messages})"
   ]
  },
  {
   "cell_type": "code",
   "execution_count": 13,
   "metadata": {},
   "outputs": [
    {
     "name": "stdout",
     "output_type": "stream",
     "text": [
      "================================\u001b[1m Human Message \u001b[0m=================================\n",
      "\n",
      "what is machine learning?\n",
      "==================================\u001b[1m Ai Message \u001b[0m==================================\n",
      "\n",
      "\"Unraveling Machine Learning: A Beginner's Guide to Understanding the Basics\"\n",
      "==================================\u001b[1m Ai Message \u001b[0m==================================\n",
      "\n",
      "Machine learning is a fascinating and rapidly evolving field that has gained significant attention across industries, from technology to healthcare, finance, and beyond. At its core, machine learning is a subset of artificial intelligence (AI) which focuses on the development of algorithms that allow computers to learn from and make predictions or decisions based on data. Unlike traditional programming, where a human writes explicit instructions for a task, machine learning systems identify patterns and make decisions with minimal human intervention.\n",
      "\n",
      "### What is Machine Learning?\n",
      "\n",
      "Machine learning can be thought of as teaching computers to learn in a way that mimics human learning. Instead of being directly programmed to perform a specific task, these systems are trained to learn from examples. For instance, if you want a computer to recognize images of cats, you wouldn’t program specific rules for what a cat looks like. Instead, you provide lots of images of cats and let the machine identify patterns and features characteristic of cats.\n",
      "\n",
      "### Types of Machine Learning\n",
      "\n",
      "1. **Supervised Learning**: This is the most common type of machine learning. It involves training a model on a labeled dataset, which means that each training example is paired with a label that the algorithm should learn to predict. For instance, if you're predicting whether an email is spam or not based on user-marked spam versus non-spam emails, that's supervised learning.\n",
      "\n",
      "2. **Unsupervised Learning**: Here, the model is given data without explicit instructions on what to do with it. It tries to find underlying patterns or structures in the data on its own. Common applications include clustering and association tasks, such as customer segmentation in marketing.\n",
      "\n",
      "3. **Semi-supervised Learning**: This is a mix of supervised and unsupervised learning. The algorithm is trained on a small amount of labeled data but largely on a much larger portion of unlabeled data, effectively bridging both types of learning.\n",
      "\n",
      "4. **Reinforcement Learning**: In this approach, an algorithm learns by interacting with its environment. It receives feedback in terms of rewards or punishments, which it uses to adapt its actions to maximize some notion of cumulative reward. This is how self-driving cars and games like AlphaGo learn to perform tasks.\n",
      "\n",
      "### How Does Machine Learning Work?\n",
      "\n",
      "Machine learning models rely on data. Lots of it. The more quality data a model has access to, the better its potential predictions tend to be. Here's a simplified process of how machine learning works:\n",
      "\n",
      "1. **Data Collection**: Gather a large amount of data relevant to the task you're trying to automate.\n",
      "\n",
      "2. **Data Preprocessing**: Clean and organize your data, handling missing values, removing outliers, and normalizing data when needed.\n",
      "\n",
      "3. **Choosing a Model**: Select a suitable machine learning model that fits the problem type you’re working on. It could be a decision tree, neural network, support vector machine, etc.\n",
      "\n",
      "4. **Training**: Use your data to let the model learn by iteratively adjusting weights or parameters to minimize prediction error.\n",
      "\n",
      "5. **Evaluation**: Test your model using a separate set of data not seen during training (called the test set) to see how well it generalizes to new, unseen data.\n",
      "\n",
      "6. **Tuning & Optimization**: Refine the model by tuning its parameters to improve its accuracy or efficiency.\n",
      "\n",
      "### Applications of Machine Learning\n",
      "\n",
      "Machine learning is impacting various sectors:\n",
      "\n",
      "- **Healthcare**: Powering predictive analytics for patient outcomes, personalizing medication regimens, and identifying novel drug candidates.\n",
      "- **Finance**: Enhancing fraud detection systems, trading algorithms, and credit scoring models.\n",
      "- **Retail**: Optimizing supply chains, targeting advertising, personalizing shopping experiences.\n",
      "- **Technology**: Driving innovations like voice assistants, chatbots, image recognition systems, and recommendation engines.\n",
      "\n",
      "### The Future of Machine Learning\n",
      "\n",
      "Machine learning is continuously evolving, with researchers striving to push the boundaries of what's possible. The future promises even more sophisticated and autonomous systems, improvements in natural language understanding, and more robust applications across diverse fields. As data continues to explode in volume and complexity, machine learning systems will play a pivotal role in extracting insights and driving decision-making.\n",
      "\n",
      "In conclusion, machine learning represents a transformative approach that empowers computers to learn and adapt like never before. Understanding the basics is the first step toward fully grasping the profound impact this technology will have on the future of innovation.\n"
     ]
    }
   ],
   "source": [
    "for m in messages['messages']:\n",
    "    m.pretty_print()"
   ]
  }
 ],
 "metadata": {
  "kernelspec": {
   "display_name": "ai",
   "language": "python",
   "name": "python3"
  },
  "language_info": {
   "codemirror_mode": {
    "name": "ipython",
    "version": 3
   },
   "file_extension": ".py",
   "mimetype": "text/x-python",
   "name": "python",
   "nbconvert_exporter": "python",
   "pygments_lexer": "ipython3",
   "version": "3.12.0"
  }
 },
 "nbformat": 4,
 "nbformat_minor": 2
}
