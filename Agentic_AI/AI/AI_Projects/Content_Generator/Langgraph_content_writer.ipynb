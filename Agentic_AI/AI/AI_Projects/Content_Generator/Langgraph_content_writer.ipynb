{
  "nbformat": 4,
  "nbformat_minor": 0,
  "metadata": {
    "colab": {
      "provenance": []
    },
    "kernelspec": {
      "name": "python3",
      "display_name": "Python 3"
    },
    "language_info": {
      "name": "python"
    }
  },
  "cells": [
    {
      "cell_type": "code",
      "source": [
        "pip install langchain_groq langgraph langgraph-cli[inmem] langchain_openai"
      ],
      "metadata": {
        "colab": {
          "base_uri": "https://localhost:8080/"
        },
        "id": "NaMq2B3ykVm8",
        "outputId": "46c3dc98-0e86-4c8e-a44c-76c900e02e4e"
      },
      "execution_count": 15,
      "outputs": [
        {
          "output_type": "stream",
          "name": "stdout",
          "text": [
            "Requirement already satisfied: langchain_groq in /usr/local/lib/python3.11/dist-packages (0.2.4)\n",
            "Requirement already satisfied: langgraph in /usr/local/lib/python3.11/dist-packages (0.2.74)\n",
            "Requirement already satisfied: langchain_openai in /usr/local/lib/python3.11/dist-packages (0.3.6)\n",
            "Requirement already satisfied: langgraph-cli[inmem] in /usr/local/lib/python3.11/dist-packages (0.1.73)\n",
            "Requirement already satisfied: groq<1,>=0.4.1 in /usr/local/lib/python3.11/dist-packages (from langchain_groq) (0.18.0)\n",
            "Requirement already satisfied: langchain-core<0.4.0,>=0.3.33 in /usr/local/lib/python3.11/dist-packages (from langchain_groq) (0.3.37)\n",
            "Requirement already satisfied: langgraph-checkpoint<3.0.0,>=2.0.10 in /usr/local/lib/python3.11/dist-packages (from langgraph) (2.0.16)\n",
            "Requirement already satisfied: langgraph-sdk<0.2.0,>=0.1.42 in /usr/local/lib/python3.11/dist-packages (from langgraph) (0.1.53)\n",
            "Requirement already satisfied: click<9.0.0,>=8.1.7 in /usr/local/lib/python3.11/dist-packages (from langgraph-cli[inmem]) (8.1.8)\n",
            "Requirement already satisfied: langgraph-api<0.1.0,>=0.0.26 in /usr/local/lib/python3.11/dist-packages (from langgraph-cli[inmem]) (0.0.26)\n",
            "Requirement already satisfied: python-dotenv>=0.8.0 in /usr/local/lib/python3.11/dist-packages (from langgraph-cli[inmem]) (1.0.1)\n",
            "Requirement already satisfied: openai<2.0.0,>=1.58.1 in /usr/local/lib/python3.11/dist-packages (from langchain_openai) (1.61.1)\n",
            "Requirement already satisfied: tiktoken<1,>=0.7 in /usr/local/lib/python3.11/dist-packages (from langchain_openai) (0.9.0)\n",
            "Requirement already satisfied: anyio<5,>=3.5.0 in /usr/local/lib/python3.11/dist-packages (from groq<1,>=0.4.1->langchain_groq) (3.7.1)\n",
            "Requirement already satisfied: distro<2,>=1.7.0 in /usr/local/lib/python3.11/dist-packages (from groq<1,>=0.4.1->langchain_groq) (1.9.0)\n",
            "Requirement already satisfied: httpx<1,>=0.23.0 in /usr/local/lib/python3.11/dist-packages (from groq<1,>=0.4.1->langchain_groq) (0.28.1)\n",
            "Requirement already satisfied: pydantic<3,>=1.9.0 in /usr/local/lib/python3.11/dist-packages (from groq<1,>=0.4.1->langchain_groq) (2.10.6)\n",
            "Requirement already satisfied: sniffio in /usr/local/lib/python3.11/dist-packages (from groq<1,>=0.4.1->langchain_groq) (1.3.1)\n",
            "Requirement already satisfied: typing-extensions<5,>=4.10 in /usr/local/lib/python3.11/dist-packages (from groq<1,>=0.4.1->langchain_groq) (4.12.2)\n",
            "Requirement already satisfied: langsmith<0.4,>=0.1.125 in /usr/local/lib/python3.11/dist-packages (from langchain-core<0.4.0,>=0.3.33->langchain_groq) (0.3.8)\n",
            "Requirement already satisfied: tenacity!=8.4.0,<10.0.0,>=8.1.0 in /usr/local/lib/python3.11/dist-packages (from langchain-core<0.4.0,>=0.3.33->langchain_groq) (9.0.0)\n",
            "Requirement already satisfied: jsonpatch<2.0,>=1.33 in /usr/local/lib/python3.11/dist-packages (from langchain-core<0.4.0,>=0.3.33->langchain_groq) (1.33)\n",
            "Requirement already satisfied: PyYAML>=5.3 in /usr/local/lib/python3.11/dist-packages (from langchain-core<0.4.0,>=0.3.33->langchain_groq) (6.0.2)\n",
            "Requirement already satisfied: packaging<25,>=23.2 in /usr/local/lib/python3.11/dist-packages (from langchain-core<0.4.0,>=0.3.33->langchain_groq) (24.2)\n",
            "Requirement already satisfied: cryptography<44.0.0,>=43.0.3 in /usr/local/lib/python3.11/dist-packages (from langgraph-api<0.1.0,>=0.0.26->langgraph-cli[inmem]) (43.0.3)\n",
            "Requirement already satisfied: jsonschema-rs<0.26.0,>=0.25.0 in /usr/local/lib/python3.11/dist-packages (from langgraph-api<0.1.0,>=0.0.26->langgraph-cli[inmem]) (0.25.1)\n",
            "Requirement already satisfied: orjson>=3.10.1 in /usr/local/lib/python3.11/dist-packages (from langgraph-api<0.1.0,>=0.0.26->langgraph-cli[inmem]) (3.10.15)\n",
            "Requirement already satisfied: pyjwt<3.0.0,>=2.9.0 in /usr/local/lib/python3.11/dist-packages (from langgraph-api<0.1.0,>=0.0.26->langgraph-cli[inmem]) (2.10.1)\n",
            "Requirement already satisfied: sse-starlette<2.2.0,>=2.1.0 in /usr/local/lib/python3.11/dist-packages (from langgraph-api<0.1.0,>=0.0.26->langgraph-cli[inmem]) (2.1.3)\n",
            "Requirement already satisfied: starlette>=0.38.6 in /usr/local/lib/python3.11/dist-packages (from langgraph-api<0.1.0,>=0.0.26->langgraph-cli[inmem]) (0.45.3)\n",
            "Requirement already satisfied: structlog<25.0.0,>=24.4.0 in /usr/local/lib/python3.11/dist-packages (from langgraph-api<0.1.0,>=0.0.26->langgraph-cli[inmem]) (24.4.0)\n",
            "Requirement already satisfied: uvicorn>=0.26.0 in /usr/local/lib/python3.11/dist-packages (from langgraph-api<0.1.0,>=0.0.26->langgraph-cli[inmem]) (0.34.0)\n",
            "Requirement already satisfied: watchfiles>=0.13 in /usr/local/lib/python3.11/dist-packages (from langgraph-api<0.1.0,>=0.0.26->langgraph-cli[inmem]) (1.0.4)\n",
            "Requirement already satisfied: msgpack<2.0.0,>=1.1.0 in /usr/local/lib/python3.11/dist-packages (from langgraph-checkpoint<3.0.0,>=2.0.10->langgraph) (1.1.0)\n",
            "Requirement already satisfied: jiter<1,>=0.4.0 in /usr/local/lib/python3.11/dist-packages (from openai<2.0.0,>=1.58.1->langchain_openai) (0.8.2)\n",
            "Requirement already satisfied: tqdm>4 in /usr/local/lib/python3.11/dist-packages (from openai<2.0.0,>=1.58.1->langchain_openai) (4.67.1)\n",
            "Requirement already satisfied: regex>=2022.1.18 in /usr/local/lib/python3.11/dist-packages (from tiktoken<1,>=0.7->langchain_openai) (2024.11.6)\n",
            "Requirement already satisfied: requests>=2.26.0 in /usr/local/lib/python3.11/dist-packages (from tiktoken<1,>=0.7->langchain_openai) (2.32.3)\n",
            "Requirement already satisfied: idna>=2.8 in /usr/local/lib/python3.11/dist-packages (from anyio<5,>=3.5.0->groq<1,>=0.4.1->langchain_groq) (3.10)\n",
            "Requirement already satisfied: cffi>=1.12 in /usr/local/lib/python3.11/dist-packages (from cryptography<44.0.0,>=43.0.3->langgraph-api<0.1.0,>=0.0.26->langgraph-cli[inmem]) (1.17.1)\n",
            "Requirement already satisfied: certifi in /usr/local/lib/python3.11/dist-packages (from httpx<1,>=0.23.0->groq<1,>=0.4.1->langchain_groq) (2025.1.31)\n",
            "Requirement already satisfied: httpcore==1.* in /usr/local/lib/python3.11/dist-packages (from httpx<1,>=0.23.0->groq<1,>=0.4.1->langchain_groq) (1.0.7)\n",
            "Requirement already satisfied: h11<0.15,>=0.13 in /usr/local/lib/python3.11/dist-packages (from httpcore==1.*->httpx<1,>=0.23.0->groq<1,>=0.4.1->langchain_groq) (0.14.0)\n",
            "Requirement already satisfied: jsonpointer>=1.9 in /usr/local/lib/python3.11/dist-packages (from jsonpatch<2.0,>=1.33->langchain-core<0.4.0,>=0.3.33->langchain_groq) (3.0.0)\n",
            "Requirement already satisfied: requests-toolbelt<2.0.0,>=1.0.0 in /usr/local/lib/python3.11/dist-packages (from langsmith<0.4,>=0.1.125->langchain-core<0.4.0,>=0.3.33->langchain_groq) (1.0.0)\n",
            "Requirement already satisfied: zstandard<0.24.0,>=0.23.0 in /usr/local/lib/python3.11/dist-packages (from langsmith<0.4,>=0.1.125->langchain-core<0.4.0,>=0.3.33->langchain_groq) (0.23.0)\n",
            "Requirement already satisfied: annotated-types>=0.6.0 in /usr/local/lib/python3.11/dist-packages (from pydantic<3,>=1.9.0->groq<1,>=0.4.1->langchain_groq) (0.7.0)\n",
            "Requirement already satisfied: pydantic-core==2.27.2 in /usr/local/lib/python3.11/dist-packages (from pydantic<3,>=1.9.0->groq<1,>=0.4.1->langchain_groq) (2.27.2)\n",
            "Requirement already satisfied: charset-normalizer<4,>=2 in /usr/local/lib/python3.11/dist-packages (from requests>=2.26.0->tiktoken<1,>=0.7->langchain_openai) (3.4.1)\n",
            "Requirement already satisfied: urllib3<3,>=1.21.1 in /usr/local/lib/python3.11/dist-packages (from requests>=2.26.0->tiktoken<1,>=0.7->langchain_openai) (2.3.0)\n",
            "Requirement already satisfied: pycparser in /usr/local/lib/python3.11/dist-packages (from cffi>=1.12->cryptography<44.0.0,>=43.0.3->langgraph-api<0.1.0,>=0.0.26->langgraph-cli[inmem]) (2.22)\n"
          ]
        }
      ]
    },
    {
      "cell_type": "code",
      "execution_count": 16,
      "metadata": {
        "id": "PU6lIDfBkIvj"
      },
      "outputs": [],
      "source": [
        "from openai import OpenAI\n",
        "from google.colab import userdata\n",
        "api_key = userdata.get('GROQ_API_KEY')"
      ]
    },
    {
      "cell_type": "code",
      "source": [
        "from langchain_groq import ChatGroq\n",
        "client = OpenAI(api_key=api_key)\n",
        "llm=ChatGroq(model=\"qwen-2.5-32b\", api_key=api_key)"
      ],
      "metadata": {
        "id": "gKhaYhlGrNjh"
      },
      "execution_count": 17,
      "outputs": []
    },
    {
      "cell_type": "code",
      "source": [
        "from typing_extensions import TypedDict\n",
        "class State(TypedDict):\n",
        "  title:str\n",
        "  context:str"
      ],
      "metadata": {
        "id": "K5q5NZ-wkmoz"
      },
      "execution_count": 18,
      "outputs": []
    },
    {
      "cell_type": "code",
      "source": [
        "def Title_Creator(state: State) -> State:\n",
        "  \"\"\"\n",
        "Title_Creator function prompts the user to enter a title if the 'title' key\n",
        "is not already present in the given state dictionary. It then updates and\n",
        "returns the modified state.\n",
        "\n",
        "Parameters:\n",
        "    state (State): A dictionary representing the current state.\n",
        "\n",
        "Returns:\n",
        "    State: The updated state dictionary with a 'title' key.\n",
        "\"\"\"\n",
        "\n",
        "  if not state.get('title'):\n",
        "    state['title'] = input(\"Enter a title: \")\n",
        "  return state"
      ],
      "metadata": {
        "id": "_8vU_wF8lJ9J"
      },
      "execution_count": 19,
      "outputs": []
    },
    {
      "cell_type": "code",
      "source": [
        "def Content_Writer(state: State) -> State:\n",
        "  \"\"\"\n",
        "Content_Writer function generates detailed content based on the 'title' key\n",
        "in the given state dictionary using the ChatGroq model. It includes debugging\n",
        "to inspect the response structure and ensures the extracted content is stored\n",
        "in the 'content' key of the state.\n",
        "\n",
        "Parameters:\n",
        "    state (State): A dictionary containing the 'title' key.\n",
        "\n",
        "Returns:\n",
        "    State: The updated state dictionary with a 'content' key containing\n",
        "    the generated article.\n",
        "\"\"\"\n",
        "\n",
        "  # Use the ChatGroq model to generate content based on the title\n",
        "  prompt = f\"Write a detailed article about: {state['title']}\"\n",
        "  response = llm.invoke(prompt)\n",
        "\n",
        "  # Debugging: Print the response to inspect its structure\n",
        "  print(\"Response from ChatGroq:\", response)\n",
        "\n",
        "  # Extract the content from the response\n",
        "  # Assuming the response is a string or has a 'content' attribute\n",
        "  if isinstance(response, str):\n",
        "    state['content'] = response\n",
        "  elif hasattr(response, 'content'):\n",
        "    state['content'] = response.content\n",
        "  else:\n",
        "    state['content'] = str(response)  # Fallback: Convert the response to a string\n",
        "\n",
        "  return state"
      ],
      "metadata": {
        "id": "b5Yc_DRlllPK"
      },
      "execution_count": 27,
      "outputs": []
    },
    {
      "cell_type": "code",
      "source": [
        "from typing_extensions import TypedDict\n",
        "from IPython.display import Image, display\n",
        "from langgraph.graph import StateGraph, START, END\n",
        "\n",
        "builder = StateGraph(State)\n",
        "builder.add_node(\"Title_Creator\", Title_Creator)\n",
        "builder.add_node(\"Content_Writer\", Content_Writer)\n",
        "\n",
        "builder.add_edge(START, \"Title_Creator\")\n",
        "builder.add_edge(\"Title_Creator\", \"Content_Writer\")\n",
        "builder.add_edge(\"Content_Writer\", END)\n",
        "\n",
        "graph = builder.compile()\n",
        "\n",
        "display(Image(graph.get_graph().draw_mermaid_png()))"
      ],
      "metadata": {
        "colab": {
          "base_uri": "https://localhost:8080/",
          "height": 350
        },
        "id": "otedU4vQnOD2",
        "outputId": "a2c27c3a-0e35-47cf-ab51-9f27e29e69bb"
      },
      "execution_count": 28,
      "outputs": [
        {
          "output_type": "display_data",
          "data": {
            "image/png": "[encoded data removed]",
            "text/plain": [
              "<IPython.core.display.Image object>"
            ]
          },
          "metadata": {}
        }
      ]
    },
    {
      "cell_type": "code",
      "source": [
        "# Run the graph with an initial state\n",
        "initial_state: State = {'title': '', 'content': ''}\n",
        "final_state = graph.invoke(initial_state)"
      ],
      "metadata": {
        "colab": {
          "base_uri": "https://localhost:8080/"
        },
        "id": "D6iVhCcot7Km",
        "outputId": "5efb96d8-1bfc-4d76-f1e2-41b0569d1fe4"
      },
      "execution_count": 29,
      "outputs": [
        {
          "output_type": "stream",
          "name": "stdout",
          "text": [
            "Enter a title: coffee date\n",
            "Response from ChatGroq: content='### The Coffee Date: An Art of Connection\\n\\nThe coffee date, a modern take on the traditional meeting, has become a cornerstone of the dating world. It provides a casual yet purposeful setting where two people can get to know one another without the pressure of a formal dinner or the awkwardness of a first-time hangout. This article explores the intricacies of the coffee date, from the selection of the perfect café to the conversation starters and tips for making the most of this initial encounter.\\n\\n#### Choosing the Right Café\\n\\nSelecting the right café is crucial to setting the right tone for the date. Here are a few considerations to make:\\n\\n1. **Ambiance and Atmosphere**: Look for a café that is neither too loud nor too quiet. Ideally, the café should have a cozy yet open atmosphere that encourages conversation. Natural lighting and comfortable seating can also enhance the mood.\\n\\n2. **Location**: Choose a café in a central location that’s easy to access for both of you. This shows that you’ve put thought into making the logistics simple, which can make the date less stressful from the outset.\\n\\n3. **Menu Variety**: A café with a diverse menu is preferable, as it allows both of you to find something you enjoy, whether it’s coffee, tea, or light bites. This can be a conversation starter in itself, as you discuss your preferences.\\n\\n#### Preparing for the Coffee Date\\n\\nOnce the café is chosen, it’s time to think about the other aspects of the date. Here are some tips:\\n\\n1. **Dress Code**: Dress appropriately for the café and the occasion. While coffee dates tend to be casual, it’s important to look your best, showing respect for your date and the setting.\\n\\n2. **Punctuality**: Arriving on time shows respect and consideration. If you’re the host, you might want to arrive a little early to choose a good spot and have the order ready when your date arrives.\\n\\n3. **Conversation Starters**: Prepare a few conversation starters or topics to keep the conversation flowing. This could include asking about the other person’s day, favorite coffee order, or sharing a quirky fact about yourself.\\n\\n#### During the Coffee Date\\n\\nThe coffee date is a time to connect and get to know each other on a deeper level. Here are some tips for making the most of the time together:\\n\\n1. **Active Listening**: Pay attention to what your date says, and show genuine interest. This can be as simple as nodding, making eye contact, or asking follow-up questions.\\n\\n2. **Be Yourself**: Authenticity goes a long way in any relationship. Be true to yourself and let your personality shine through.\\n\\n3. **Body Language**: Maintain open and friendly body language. Lean slightly forward, keep your arms uncrossed, and smile often.\\n\\n4. **Casual Topics**: Start with casual topics and gradually move to deeper subjects as you both feel more comfortable. Topics can range from hobbies and interests to future aspirations.\\n\\n#### The After-Math of the Coffee Date\\n\\nAfter the coffee date, consider following up with a text or a call to thank your date for their time. If you both had a great time and feel a connection, it’s perfectly acceptable to suggest a second date or another coffee meet-up.\\n\\n#### Conclusion\\n\\nThe coffee date is more than just a coffee and a chat; it’s an opportunity to make a genuine connection with someone. By choosing the right café, preparing yourself both mentally and physically, and actively engaging with your date, you can make the most of this casual yet meaningful encounter. Whether it leads to a deeper relationship or remains a pleasant memory, the coffee date is a testament to the simple yet powerful ways we connect with others.' additional_kwargs={} response_metadata={'token_usage': {'completion_tokens': 753, 'prompt_tokens': 37, 'total_tokens': 790, 'completion_time': 3.765, 'prompt_time': 0.004139523, 'queue_time': 0.236483383, 'total_time': 3.7691395229999998}, 'model_name': 'qwen-2.5-32b', 'system_fingerprint': 'fp_35f92f8282', 'finish_reason': 'stop', 'logprobs': None} id='run-0cef9d61-9966-42ba-8016-3add5059bf39-0' usage_metadata={'input_tokens': 37, 'output_tokens': 753, 'total_tokens': 790}\n"
          ]
        }
      ]
    }
  ]
}