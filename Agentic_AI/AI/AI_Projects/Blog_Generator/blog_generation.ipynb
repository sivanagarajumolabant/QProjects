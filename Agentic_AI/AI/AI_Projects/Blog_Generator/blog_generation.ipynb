{
 "cells": [
  {
   "cell_type": "code",
   "execution_count": 8,
   "metadata": {},
   "outputs": [],
   "source": [
    "import os\n",
    "from dotenv import load_dotenv\n",
    "load_dotenv()\n",
    "\n",
    "os.environ[\"GROQ_API_KEY\"] = os.getenv(\"GROQ_API_KEY\")\n",
    "os.environ[\"OPENAI_API_KEY\"] = os.getenv(\"OPENAI_API_KEY\")\n",
    "os.environ[\"SERPER_API_KEY\"] = os.getenv(\"SERPER_API_KEY\")\n"
   ]
  },
  {
   "cell_type": "code",
   "execution_count": 9,
   "metadata": {},
   "outputs": [],
   "source": [
    "from langchain_groq import ChatGroq"
   ]
  },
  {
   "cell_type": "code",
   "execution_count": 10,
   "metadata": {},
   "outputs": [],
   "source": [
    "import wikipediaapi\n",
    "import wikipedia\n",
    "from serpapi import GoogleSearch"
   ]
  },
  {
   "cell_type": "code",
   "execution_count": 11,
   "metadata": {},
   "outputs": [],
   "source": [
    "llm = ChatGroq(model=\"Gemma2-9b-It\", temperature=0.2)"
   ]
  },
  {
   "cell_type": "code",
   "execution_count": 12,
   "metadata": {},
   "outputs": [],
   "source": [
    "from langchain_core.messages import HumanMessage, SystemMessage\n",
    "from langgraph.graph import MessagesState"
   ]
  },
  {
   "cell_type": "code",
   "execution_count": 13,
   "metadata": {},
   "outputs": [],
   "source": [
    "sys_msg1 = SystemMessage (content = \"You are a helpful assistant tasked with generating blog title, pick the first catchy title.\")\n",
    "sys_msg2 = SystemMessage (content = \"You are writing the blog using {query}. Use the following search results {combined_result} for generation. \\\n",
    "                          You will generate the following 3 sections. \\\n",
    "                          1. introduction (50 words stating the core problem) \\\n",
    "                          2. main body containing technical details and problem solution within 300 words. \\\n",
    "                          3. Conclusion (50 words, summarizing the key messages. Make it concise and impactful). \\\n",
    "                          Ensure to mention clear section titles and bullet points. \")\n",
    "sys_msg3 = SystemMessage (content = \"You are an Editor tasked with reviewing blog title and mainbody. \\\n",
    "                          If everything looks good provide approved as feedback. \\\n",
    "                          If title needs to be revised provide revise_title as feedback \\\n",
    "                          If main body needs to be revised provide revise_body as feedback. \")"
   ]
  },
  {
   "cell_type": "code",
   "execution_count": 14,
   "metadata": {},
   "outputs": [],
   "source": [
    "wiki_obj = wikipediaapi.Wikipedia(user_agent= \"MyAIApp/1.0 (ravibhattinkw@gmail.com)\",language=\"en\")\n",
    "def clean_query(query):\n",
    "        \n",
    "        ignore_words = [\"Generate a blog on\", \"Write about\", \"What is\", \"Who is\", \"Explain\"]\n",
    "    \n",
    "        for word in ignore_words:\n",
    "            query = query.replace(word, \"\").strip()\n",
    "\n",
    "        return query  # Return cleaned-up query for better Wikipedia search\n",
    "\n",
    "def fetch_wiki_data(query):\n",
    "\n",
    "    query = clean_query(query)\n",
    "\n",
    "    get_wiki_page = wikipedia.search(query)\n",
    "\n",
    "    #print(\"Get Wiki Page:\",get_wiki_page)\n",
    "\n",
    "    #best_match = wiki_obj.page (get_wiki_page[1]) # Fetch from wikipedia\n",
    "    for match in get_wiki_page:\n",
    "        try:\n",
    "            return wikipedia.summary(match, sentences=3)  # Limit to 3 sentences\n",
    "        except wikipedia.exceptions.PageError:\n",
    "            continue  # Try next title if PageError occurs\n",
    "        except wikipedia.exceptions.DisambiguationError as e:\n",
    "            return f\"Multiple results found: {e.options[:5]}...\"  # Show first 5 options\n",
    "    \n",
    "    #if best_match.exists():\n",
    "    #    return wikipedia.summary(best_match, sentences=5)\n",
    "    #else:\n",
    "    #    \"No Wikipedia data found\"\n",
    "\n",
    "#print(fetch_wiki_data(\"Generate a blog on Greatness of Novak Djokovic?\"))"
   ]
  },
  {
   "cell_type": "code",
   "execution_count": 16,
   "metadata": {},
   "outputs": [],
   "source": [
    "def fetch_google_search_results(query):\n",
    "    # Search Google with serper API\n",
    "    params = {\n",
    "        \"engine\": \"google\",\n",
    "        \"q\": query,\n",
    "        #\"api_key\": os.environ[\"SERPER_API_KEY\"\n",
    "    }\n",
    "\n",
    "    search = GoogleSearch(params)\n",
    "    results = search.get_dict()\n",
    "    #print(\"🔍 Raw API Response:\", results)\n",
    "\n",
    "    top3_search = [result[\"snippet\"] for result in results.get(\"organic_results\", [])[:3]]  # Get top 3 snippets\n",
    "    return \" \".join(top3_search) if top3_search else \"No relevant search results found.\""
   ]
  },
  {
   "cell_type": "code",
   "execution_count": 17,
   "metadata": {},
   "outputs": [],
   "source": [
    "import re\n",
    "\n",
    "def title_generator(state: MessagesState):\n",
    "    title = llm.invoke([sys_msg1] + state[\"messages\"])  # No config needed\n",
    "    return {\"messages\": state[\"messages\"] + [title]}\n",
    "\n",
    "def mainbody_generator(state: MessagesState):\n",
    "    title_msg = state[\"messages\"][-1]  \n",
    "\n",
    "    query = state[\"messages\"][0].content\n",
    "\n",
    "    #print(\"query:\",query)\n",
    "\n",
    "    wiki_info = fetch_wiki_data(query)\n",
    "\n",
    "    #print(\"Wiki_info\",wiki_info)\n",
    "    \n",
    "    google_search_info = fetch_google_search_results(query)\n",
    "\n",
    "    combined_result = f\"Wikipedia Result: {wiki_info} \\n  Google Search Result: {google_search_info}\"\n",
    "\n",
    "    #print(\"combined_result:\", combined_result)\n",
    "    updated_sys_msg2 = SystemMessage( content=sys_msg2.content.format(query=query, combined_result=combined_result))\n",
    "    \n",
    "    main_body = llm.invoke([updated_sys_msg2, title_msg])  \n",
    "    return {\"messages\": state[\"messages\"] + [main_body]}\n",
    "\n",
    "def editor(state: MessagesState):\n",
    "    aggregated_message = \"\\n\\n\".join([msg.content for msg in state[\"messages\"]])\n",
    "\n",
    "    editor_feedback = llm.invoke( [sys_msg3, HumanMessage(content=aggregated_message)])\n",
    "    match = re.search(r\"\\b(approved|revise_title|revise_body)\\b\", editor_feedback.content.lower())\n",
    "\n",
    "    feedback = match.group(1) \n",
    "\n",
    "    valid_feedback = [\"approved\", \"revise_title\", \"revise_body\"]\n",
    "    if feedback not in valid_feedback:\n",
    "        raise ValueError(f\" Unexpected feedback from LLM: {feedback}\")\n",
    "\n",
    "    return {\"editor_feedback\": feedback}\n",
    "    \n",
    "    \n",
    "    \n",
    "\n",
    "#def conclusion_generator(state: MessagesState):\n",
    "#    relevant_messages = state[\"messages\"][-2:]  \n",
    "#    conclusion = llm.invoke([sys_msg3] + relevant_messages)  \n",
    "#    return {\"messages\": state[\"messages\"] + [conclusion]}"
   ]
  },
  {
   "cell_type": "code",
   "execution_count": 22,
   "metadata": {},
   "outputs": [
    {
     "data": {
      "image/png": "[encoded data removed]",
      "text/plain": [
       "<IPython.core.display.Image object>"
      ]
     },
     "metadata": {},
     "output_type": "display_data"
    },
    {
     "name": "stdout",
     "output_type": "stream",
     "text": [
      "================================\u001b[1m Human Message \u001b[0m=================================\n",
      "\n",
      "Generate a blog on Greatness of Novak Djokovic\n",
      "==================================\u001b[1m Ai Message \u001b[0m==================================\n",
      "\n",
      "##  Djokovic: The Maestro of the Court - A Legacy Forged in Grit and Grace \n",
      "\n",
      "\n",
      "Let's dive into a blog post celebrating the greatness of Novak Djokovic:\n",
      "\n",
      "**Djokovic: The Maestro of the Court - A Legacy Forged in Grit and Grace**\n",
      "\n",
      "Novak Djokovic. The name itself evokes images of relentless returns, impossible angles, and a steely determination that has redefined what it means to be a tennis champion.  His dominance on the court is undeniable, his trophy cabinet overflowing with Grand Slam titles and records that seem destined to stand the test of time. But beyond the statistics and accolades, Djokovic's greatness transcends the realm of sport. He embodies a unique blend of grit and grace, a warrior spirit tempered by an unwavering respect for the game and his opponents.\n",
      "\n",
      "This blog post delves into the multifaceted greatness of Novak Djokovic, exploring:\n",
      "\n",
      "* **His Unrivaled Return of Serve:**  Djokovic's return of serve is arguably the most potent weapon in tennis history. His ability to anticipate, track, and dismantle even the most ferocious serves has become a hallmark of his game, setting the stage for his relentless attacks.\n",
      "* **The Mental Fortress:**  Djokovic's mental fortitude is legendary. He possesses an uncanny ability to stay composed under pressure, to rise to the occasion in the most crucial moments, and to bounce back from setbacks with unwavering resolve. This mental resilience has been instrumental in his countless victories.\n",
      "* **The Evolution of a Champion:**  From his early days as a prodigious talent to his current status as a seasoned veteran, Djokovic has continuously evolved his game. He has adapted to changing styles, embraced new techniques, and pushed the boundaries of what's possible on the court.\n",
      "* **Beyond the Baseline:**  Djokovic's impact extends far beyond the tennis court. He is a vocal advocate for mental health awareness, a philanthropist dedicated to making a difference in the world, and a role model for aspiring athletes around the globe.\n",
      "\n",
      "Join us as we celebrate the remarkable career of Novak Djokovic, a true maestro of the court whose legacy will continue to inspire generations to come.\n",
      "==================================\u001b[1m Ai Message \u001b[0m==================================\n",
      "\n",
      "**Conclusion**\n",
      "\n",
      "Novak Djokovic's greatness transcends mere statistics. His unwavering determination, unparalleled return of serve, and mental fortitude have cemented his place as one of the greatest tennis players of all time.  Djokovic's legacy is a testament to the power of hard work, dedication, and an unwavering belief in oneself.\n"
     ]
    }
   ],
   "source": [
    "from langgraph.graph import START, StateGraph, END\n",
    "from IPython.display import Image, display\n",
    "from langgraph.prebuilt import tools_condition, ToolNode\n",
    "from langgraph.checkpoint.memory import MemorySaver\n",
    "\n",
    "builder = StateGraph(MessagesState)\n",
    "\n",
    "builder.add_node( \"title_generator\", title_generator)\n",
    "builder.add_node( \"mainbody_generator\", mainbody_generator)\n",
    "builder.add_node( \"editor\", editor)\n",
    "\n",
    "builder.add_edge ( START, \"title_generator\" )\n",
    "builder.add_edge ( \"title_generator\", \"mainbody_generator\" )\n",
    "builder.add_edge ( \"mainbody_generator\", \"editor\")\n",
    "\n",
    "def editor_decision(state):\n",
    "    \"\"\"Conditional routing based on the editor's feedback.\"\"\"\n",
    "    feedback = state[\"editor_feedback\"]  # Assuming editor gives structured feedback\n",
    "    \n",
    "    if feedback == \"approved\":\n",
    "        return END\n",
    "    elif feedback == \"revise_title\":\n",
    "        return \"title_generator\"\n",
    "    elif feedback == \"revise_body\":\n",
    "        return \"mainbody_generator\"\n",
    "    else:\n",
    "        raise ValueError(\"Invalid editor feedback\")\n",
    "\n",
    "builder.add_conditional_edges ( \"editor\",\n",
    "                               #if the output of mainbody_generator needs review route flow to mainbody or Title generator\n",
    "                               #if the output of mainbody_generator is good route to END \n",
    "                               editor_decision)\n",
    "\n",
    "memory = MemorySaver()\n",
    "react_graph = builder.compile(interrupt_before=[\"editor\"], checkpointer=memory)\n",
    "\n",
    "#react_graph = builder.compile()\n",
    "\n",
    "display (Image(react_graph.get_graph().draw_mermaid_png()))\n",
    "\n",
    "#messages = [HumanMessage(content = \"Generate a blog on Good AI Governance\")]\n",
    "#messages = react_graph.invoke({ \"messages\": messages})\n",
    "\n",
    "#for m in messages['messages']:\n",
    "    #m.pretty_print()\n",
    "\n",
    "messages = {\"messages\":HumanMessage(content = \"Generate a blog on Greatness of Novak Djokovic\")}\n",
    "thread={\"configurable\":{\"thread_id\":\"1\"}}\n",
    "#interrupted_state = react_graph.invoke({ \"messages\": messages})\n",
    "for event in react_graph.stream(messages,thread,stream_mode=\"values\"):\n",
    "    event['messages'][-1].pretty_print()\n",
    "\n",
    "\n",
    "#for m in messages['messages']:\n",
    "#    m.pretty_print()\n",
    "\n"
   ]
  },
  {
   "cell_type": "code",
   "execution_count": 19,
   "metadata": {},
   "outputs": [
    {
     "name": "stdout",
     "output_type": "stream",
     "text": [
      "\n",
      "🚀 **Generating Blog Content...**\n"
     ]
    },
    {
     "data": {
      "text/plain": [
       "'Generate a blog on Greatness of Novak Djokovic'"
      ]
     },
     "metadata": {},
     "output_type": "display_data"
    },
    {
     "data": {
      "text/plain": [
       "\"##  Novak Djokovic: The Relentless Pursuit of Perfection \\n\\nNovak Djokovic. The name alone sends shivers down the spines of his opponents and sparks awe in the hearts of tennis fans worldwide.  He's not just a player; he's a phenomenon, a force of nature who has redefined what it means to be a champion.  \\n\\nDjokovic's greatness isn't just about the record-breaking 24 Grand Slam titles, though those are certainly impressive. It's about the relentless pursuit of perfection, the unwavering focus, and the sheer mental fortitude that has seen him conquer every surface and overcome every obstacle.\\n\\n**A Master of All Surfaces:**\\n\\nFrom the clay courts of Roland Garros to the hallowed grass of Wimbledon and the hard courts of the US Open, Djokovic has proven his mastery on every surface imaginable.  His adaptability is unmatched, his game evolving and refining with each passing year.  He's a chameleon on the court, seamlessly shifting his style to exploit his opponent's weaknesses and dominate the match.\\n\\n**The Mental Fortress:**\\n\\nDjokovic's mental game is arguably his greatest weapon.  He possesses an almost supernatural ability to stay calm under pressure, to rise to the occasion in the biggest moments.  He thrives on the intensity of high-stakes matches, using the pressure to fuel his performance and push himself beyond his limits.\\n\\n**A Physical Marvel:**\\n\\nDon't let the grace and fluidity of his movements fool you; Djokovic is a physical specimen.  His agility, stamina, and court coverage are legendary.  He moves with the speed and precision of a panther, anticipating every shot and covering every inch of the court.\\n\\n**Beyond the Baseline:**\\n\\nDjokovic's game isn't just about brute force.  He possesses a delicate touch and a masterful understanding of shot placement.  His drop shots are a thing of beauty, his volleys are lightning-fast, and his serve is a weapon that can win points outright.\\n\\n**A Legacy of Inspiration:**\\n\\nDjokovic's journey is an inspiration to athletes and fans alike.  He embodies the spirit of hard work, dedication, and unwavering belief in oneself.  He's a role model who transcends the boundaries of sport, using his platform to advocate for important causes and inspire positive change.\\n\\nNovak Djokovic is more than just a tennis player; he's a legend in the making.  His relentless pursuit of perfection, his unwavering focus, and his undeniable talent have cemented his place as one of the greatest athletes of all time.  His legacy will continue to inspire generations to come, reminding us that greatness is within reach for those who dare to dream big and work tirelessly to achieve their goals. \\n\\n\\n\\n\""
      ]
     },
     "metadata": {},
     "output_type": "display_data"
    },
    {
     "data": {
      "text/plain": [
       "''"
      ]
     },
     "metadata": {},
     "output_type": "display_data"
    },
    {
     "name": "stdout",
     "output_type": "stream",
     "text": [
      "\n",
      "🔍 **Editor Review Required** 🔍\n",
      "\n"
     ]
    },
    {
     "data": {
      "text/plain": [
       "'Generate a blog on Greatness of Novak Djokovic'"
      ]
     },
     "metadata": {},
     "output_type": "display_data"
    },
    {
     "data": {
      "text/plain": [
       "\"##  Djokovic: The Maestro of the Court - A Legacy Forged in Grit and Grace \\n\\n\\nLet's dive into a blog post celebrating Novak Djokovic's greatness:\\n\\n**Djokovic: The Maestro of the Court - A Legacy Forged in Grit and Grace**\\n\\nNovak Djokovic. The name itself evokes images of unwavering focus, relentless determination, and breathtaking athleticism.  He stands as a titan in the world of tennis, a player whose dominance has redefined the sport and etched his name in the annals of history. \\n\\nBut Djokovic's greatness transcends mere statistics.  It's a tapestry woven from grit, grace, and an unwavering pursuit of perfection. \\n\\n**The Unstoppable Force:**\\n\\nDjokovic's trophy cabinet is a testament to his unparalleled success.  With a record-breaking 24 Grand Slam singles titles, he has surpassed even the legendary Roger Federer and Rafael Nadal.  His mastery of all surfaces – clay, grass, and hard court – is a testament to his versatility and adaptability. \\n\\n**Beyond the Numbers:**\\n\\nWhile the numbers speak volumes, it's Djokovic's intangible qualities that truly set him apart.  His unwavering focus, almost preternatural court awareness, and ability to dissect opponents' weaknesses are legendary.  He possesses a mental fortitude that has seen him overcome countless challenges, emerging stronger and more determined each time.\\n\\n**The Art of the Game:**\\n\\nDjokovic's style is a blend of power and finesse.  His groundstrokes are a symphony of precision and force, while his drop shots and volleys are executed with breathtaking artistry.  He moves with a fluidity and agility that belies his power, covering the court with effortless grace.\\n\\n**A Legacy of Inspiration:**\\n\\nDjokovic's journey is an inspiration to aspiring athletes worldwide.  He embodies the spirit of hard work, dedication, and unwavering belief in oneself.  His commitment to excellence extends beyond the court, as he is a vocal advocate for mental health awareness and social justice.\\n\\nNovak Djokovic is more than just a tennis player; he is a force of nature, a true maestro of the court.  His legacy will continue to inspire generations to come, reminding us that greatness is not just about talent, but about the unwavering pursuit of excellence. \\n\\n\\n\\n\""
      ]
     },
     "metadata": {},
     "output_type": "display_data"
    },
    {
     "data": {
      "text/plain": [
       "''"
      ]
     },
     "metadata": {},
     "output_type": "display_data"
    },
    {
     "data": {
      "text/plain": [
       "'Generate a blog on Greatness of Novak Djokovic'"
      ]
     },
     "metadata": {},
     "output_type": "display_data"
    },
    {
     "data": {
      "text/plain": [
       "\"##  Novak Djokovic: The Relentless Pursuit of Perfection \\n\\nNovak Djokovic. The name alone sends shivers down the spines of his opponents and sparks awe in the hearts of tennis fans worldwide.  He's not just a player; he's a phenomenon, a force of nature who has redefined what it means to be a champion.  \\n\\nDjokovic's greatness isn't just about the record-breaking 24 Grand Slam titles, though those are certainly impressive. It's about the relentless pursuit of perfection, the unwavering focus, and the sheer mental fortitude that has seen him conquer every surface and overcome every obstacle.\\n\\n**A Master of All Surfaces:**\\n\\nFrom the clay courts of Roland Garros to the hallowed grass of Wimbledon and the hard courts of the US Open, Djokovic has proven his mastery on every surface imaginable.  His adaptability is unmatched, his game evolving and refining with each passing year.  He's a chameleon on the court, seamlessly shifting his style to exploit his opponent's weaknesses and dominate the match.\\n\\n**The Mental Fortress:**\\n\\nDjokovic's mental game is arguably his greatest weapon.  He possesses an almost supernatural ability to stay calm under pressure, to rise to the occasion in the biggest moments.  He thrives on the intensity of high-stakes matches, using the pressure to fuel his performance and push himself beyond his limits.\\n\\n**A Physical Marvel:**\\n\\nDon't let the grace and fluidity of his movements fool you; Djokovic is a physical specimen.  His agility, stamina, and court coverage are legendary.  He moves with the speed and precision of a panther, anticipating every shot and covering every inch of the court.\\n\\n**Beyond the Baseline:**\\n\\nDjokovic's game isn't just about brute force.  He possesses a delicate touch and a masterful understanding of shot placement.  His drop shots are a thing of beauty, his volleys are lightning-fast, and his serve is a weapon that can win points outright.\\n\\n**A Legacy of Inspiration:**\\n\\nDjokovic's journey is an inspiration to athletes and fans alike.  He embodies the spirit of hard work, dedication, and unwavering belief in oneself.  He's a role model who transcends the boundaries of sport, using his platform to advocate for important causes and inspire positive change.\\n\\nNovak Djokovic is more than just a tennis player; he's a legend in the making.  His relentless pursuit of perfection, his unwavering focus, and his undeniable talent have cemented his place as one of the greatest athletes of all time.  His legacy will continue to inspire generations to come, reminding us that greatness is within reach for those who dare to dream big and work tirelessly to achieve their goals. \\n\\n\\n\\n\""
      ]
     },
     "metadata": {},
     "output_type": "display_data"
    },
    {
     "data": {
      "text/plain": [
       "''"
      ]
     },
     "metadata": {},
     "output_type": "display_data"
    },
    {
     "data": {
      "application/vnd.jupyter.widget-view+json": {
       "model_id": "74e654a7cab3431aa6d3cc6eaa7c5622",
       "version_major": 2,
       "version_minor": 0
      },
      "text/plain": [
       "Dropdown(description='Feedback:', options=('approved', 'revise_title', 'revise_body'), value='approved')"
      ]
     },
     "metadata": {},
     "output_type": "display_data"
    },
    {
     "name": "stdout",
     "output_type": "stream",
     "text": [
      "\n",
      "✅ Selected Feedback: revise_title\n"
     ]
    }
   ],
   "source": [
    "from ipywidgets import widgets\n",
    "from IPython.display import display\n",
    "import IPython\n",
    "from langgraph.checkpoint.memory import MemorySaver\n",
    "\n",
    "\n",
    "# ✅ Compile LangGraph with a checkpoint namespace\n",
    "#react_graph = builder.compile(interrupt_before=[\"editor\"], checkpointer=memory)\n",
    "\n",
    "# ✅ Prepare Input Message\n",
    "messages = {\"messages\": [HumanMessage(content=\"Generate a blog on Greatness of Novak Djokovic\")]}\n",
    "\n",
    "# ✅ Required Thread Configuration\n",
    "thread_config = {\"configurable\": {\"thread_id\": \"1\"}}\n",
    "\n",
    "# 🚀 First Invocation (Stream Until \"editor\", Then Pause)\n",
    "print(\"\\n🚀 **Generating Blog Content...**\")\n",
    "for event in react_graph.stream(messages, thread_config, stream_mode=\"values\"):\n",
    "    IPython.display.display(event[\"messages\"][-1].content)  # ✅ Displaying output in Notebook\n",
    "\n",
    "# 🚀 Human Reviews Content & Provides Feedback\n",
    "print(\"\\n🔍 **Editor Review Required** 🔍\\n\")\n",
    "for msg in event[\"messages\"]:\n",
    "    IPython.display.display(msg.content)  # ✅ Displaying in Jupyter\n",
    "\n",
    "# ✅ Create a dropdown for editor feedback\n",
    "feedback_widget = widgets.Dropdown(\n",
    "    options=[\"approved\", \"revise_title\", \"revise_body\"],\n",
    "    description=\"Feedback:\",\n",
    "    disabled=False\n",
    ")\n",
    "display(feedback_widget)\n",
    "\n",
    "# ✅ Wait for human input (Jupyter workaround)\n",
    "def on_submit(change):\n",
    "    global human_feedback\n",
    "    human_feedback = change.new\n",
    "    print(f\"\\n✅ Selected Feedback: {human_feedback}\")\n",
    "\n",
    "feedback_widget.observe(on_submit, names=\"value\")\n"
   ]
  }
 ],
 "metadata": {
  "kernelspec": {
   "display_name": "venv",
   "language": "python",
   "name": "python3"
  },
  "language_info": {
   "codemirror_mode": {
    "name": "ipython",
    "version": 3
   },
   "file_extension": ".py",
   "mimetype": "text/x-python",
   "name": "python",
   "nbconvert_exporter": "python",
   "pygments_lexer": "ipython3",
   "version": "3.12.4"
  }
 },
 "nbformat": 4,
 "nbformat_minor": 2
}
