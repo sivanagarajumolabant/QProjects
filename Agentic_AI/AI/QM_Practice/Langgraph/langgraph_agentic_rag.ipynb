{
 "cells": [
  {
   "cell_type": "code",
   "execution_count": 1,
   "metadata": {},
   "outputs": [
    {
     "name": "stderr",
     "output_type": "stream",
     "text": [
      "USER_AGENT environment variable not set, consider setting it to identify your requests.\n"
     ]
    },
    {
     "data": {
      "text/plain": [
       "True"
      ]
     },
     "execution_count": 1,
     "metadata": {},
     "output_type": "execute_result"
    }
   ],
   "source": [
    "from typing import Annotated, Literal, Sequence, TypedDict\n",
    "from langchain import hub\n",
    "from langchain_core.messages import BaseMessage, HumanMessage\n",
    "from langchain_core.output_parsers import StrOutputParser\n",
    "from langchain_core.prompts import PromptTemplate\n",
    "\n",
    "# from langchain_core.pydantic_v1 import BaseModel, Field\n",
    "from pydantic.v1 import BaseModel, Field\n",
    "from langgraph.graph.message import add_messages\n",
    "from langgraph.prebuilt import tools_condition, ToolNode\n",
    "from langchain_community.document_loaders import WebBaseLoader\n",
    "from langchain_community.document_loaders import PyPDFLoader\n",
    "from langchain_community.vectorstores import Chroma\n",
    "from langchain.text_splitter import RecursiveCharacterTextSplitter\n",
    "from langchain.tools.retriever import create_retriever_tool\n",
    "from langgraph.graph import START, END, StateGraph\n",
    "from langchain_huggingface import HuggingFaceEmbeddings\n",
    "from langchain_groq import ChatGroq\n",
    "from dotenv import load_dotenv\n",
    "\n",
    "load_dotenv()"
   ]
  },
  {
   "cell_type": "code",
   "execution_count": 2,
   "metadata": {},
   "outputs": [
    {
     "name": "stderr",
     "output_type": "stream",
     "text": [
      "c:\\Repos\\QMigrator_AI\\.venv\\lib\\site-packages\\tqdm\\auto.py:21: TqdmWarning: IProgress not found. Please update jupyter and ipywidgets. See https://ipywidgets.readthedocs.io/en/stable/user_install.html\n",
      "  from .autonotebook import tqdm as notebook_tqdm\n"
     ]
    }
   ],
   "source": [
    "embeddings = HuggingFaceEmbeddings(model_name=\"all-MiniLM-L6-v2\")\n",
    "llm = ChatGroq(model=\"gemma2-9b-it\")"
   ]
  },
  {
   "cell_type": "code",
   "execution_count": 3,
   "metadata": {},
   "outputs": [],
   "source": [
    "urls = [\n",
    "    \"https://www.javatpoint.com/java-tutorial\",\n",
    "    \"https://www.javatpoint.com/history-of-java\",\n",
    "]\n",
    "docs = [WebBaseLoader(url).load() for url in urls]\n",
    "docs_list = [d for doc in docs for d in doc]\n",
    "\n",
    "\n",
    "text_splitter = RecursiveCharacterTextSplitter.from_tiktoken_encoder(\n",
    "    chunk_size=100, chunk_overlap=5\n",
    ")\n",
    "spiltted_docs = text_splitter.split_documents(docs_list)\n",
    "\n",
    "vector_store = Chroma.from_documents(\n",
    "    documents=spiltted_docs, collection_name=\"rag-agent\", embedding=embeddings\n",
    ")\n",
    "\n",
    "retriever = vector_store.as_retriever()\n",
    "\n",
    "pdf_loader = PyPDFLoader(\"C:/Repos/QMigrator_AI/Practice/Langgraph/Siva-pdf504504.pdf\")\n",
    "pdf_docs = pdf_loader.load()\n",
    "\n",
    "pdf_text_splitter = RecursiveCharacterTextSplitter(chunk_size=100, chunk_overlap=5)\n",
    "pdf_spiltted_docs = pdf_text_splitter.split_documents(pdf_docs)\n",
    "pdf_vector_store = Chroma.from_documents(\n",
    "    documents=pdf_spiltted_docs, collection_name=\"pdf-retrieve\", embedding=embeddings\n",
    ")\n",
    "pdf_retriever = pdf_vector_store.as_retriever()\n",
    "# pdf_retriever.invoke('Working as Technical Analyst in Quadrant Technologies from which date?')"
   ]
  },
  {
   "cell_type": "code",
   "execution_count": 4,
   "metadata": {},
   "outputs": [],
   "source": [
    "retriever_tool = create_retriever_tool(\n",
    "    retriever=retriever,\n",
    "    name=\"retrieve_javainfo\",\n",
    "    description=\"Search for information about Java. For any questions about Java, you must use this tool!\",\n",
    ")\n",
    "\n",
    "pdf_tool = create_retriever_tool(\n",
    "    retriever=pdf_retriever,\n",
    "    name=\"pdf_retriever\",\n",
    "    description=\"Search for the Information from PDF documents. For any questions about PDF, you must use this tool!\",\n",
    ")\n",
    "# tools =  [retriever_tool]\n",
    "tools = [retriever_tool, pdf_tool]"
   ]
  },
  {
   "cell_type": "code",
   "execution_count": 5,
   "metadata": {},
   "outputs": [],
   "source": [
    "class AgentState(TypedDict):\n",
    "    messages: Annotated[Sequence[BaseMessage], add_messages]\n",
    "\n",
    "\n",
    "class grade(BaseModel):\n",
    "    binary_score: str = Field(description=\"Relevance score 'yes' or 'no'\")\n",
    "\n",
    "\n",
    "def grade_documents(state: AgentState):\n",
    "    llm_with_structure_op = llm.with_structured_output(grade)\n",
    "\n",
    "    prompt = PromptTemplate(\n",
    "        template=\"\"\"You are a grader assessing relevance of a retrieved document to a user question. \\n \n",
    "        Here is the retrieved document: \\n\\n {context} \\n\\n\n",
    "        Here is the user question: {question} \\n\n",
    "        If the document contains keyword(s) or semantic meaning related to the user question, grade it as relevant. \\n\n",
    "        Give a binary score 'yes' or 'no' score to indicate whether the document is relevant to the question.\"\"\",\n",
    "        input_variables=[\"context\", \"question\"],\n",
    "    )\n",
    "    chain = prompt | llm_with_structure_op\n",
    "\n",
    "    messages = state[\"messages\"]\n",
    "    last_message = messages[-1]\n",
    "\n",
    "    question = messages[0].content\n",
    "    docs = last_message.content\n",
    "\n",
    "    scored_result = chain.invoke({\"question\": question, \"context\": docs})\n",
    "\n",
    "    score = scored_result.binary_score\n",
    "    print(\"score in Grade Documents \", score)\n",
    "    if score == \"yes\":\n",
    "        print(\"---DECISION: DOCS RELEVANT---\")\n",
    "        return \"generator\"\n",
    "    else:\n",
    "        print(\"---DECISION: DOCS NOT RELEVANT---\")\n",
    "        return \"rewriter\"\n",
    "\n",
    "\n",
    "def ai_asssitant(state: AgentState):\n",
    "    print(\"CALL AGENT AI Assitance....\")\n",
    "    messages = state[\"messages\"]\n",
    "    print(\"initla query in ai assistant \", messages)\n",
    "    llm_with_tool = llm.bind_tools(tools)\n",
    "    print(\"LLM WITH TOOL \", llm_with_tool)\n",
    "    response = llm_with_tool.invoke(messages)\n",
    "    print(\"response of in ai assistant from llm with tools\", response)\n",
    "    return {\"messages\": [response]}\n",
    "\n",
    "\n",
    "def generate(state: AgentState):\n",
    "    print(\"GENERATE Based on the Relevent Docs fetched from the Retriever....\")\n",
    "    messages = state[\"messages\"]\n",
    "    print(\"Messages in Generate \", messages)\n",
    "    question = messages[0].content\n",
    "    print(\"Question \", question)\n",
    "    last_message = messages[-1]\n",
    "    docs = last_message.content\n",
    "    print(\"Content \", docs)\n",
    "    prompt = hub.pull(\"rlm/rag-prompt\")\n",
    "    rag_chain = prompt | llm | StrOutputParser()\n",
    "    response = rag_chain.invoke({\"context\": docs, \"question\": question})\n",
    "    print(\"Response in Generate \", response)\n",
    "    return {\"messages\": [response]}\n",
    "\n",
    "\n",
    "def rewrite(state: AgentState):\n",
    "    print(\"TRANSFORM QUERY....\")\n",
    "    messages = state[\"messages\"]\n",
    "    question = messages[0].content\n",
    "\n",
    "    msg = [\n",
    "        HumanMessage(\n",
    "            content=f\"\"\" \\n \n",
    "    Look at the input and try to reason about the underlying semantic intent / meaning. \\n \n",
    "    Here is the initial question:\n",
    "    \\n ------- \\n\n",
    "    {question} \n",
    "    \\n ------- \\n\n",
    "    Formulate an improved question: \"\"\",\n",
    "        )\n",
    "    ]\n",
    "    response = llm.invoke(msg)\n",
    "    return {\"messages\": [response]}"
   ]
  },
  {
   "cell_type": "code",
   "execution_count": 6,
   "metadata": {},
   "outputs": [],
   "source": [
    "# retriever_node = ToolNode([retriever_tool])\n",
    "retriever_node = ToolNode([retriever_tool, pdf_tool])"
   ]
  },
  {
   "cell_type": "code",
   "execution_count": 7,
   "metadata": {},
   "outputs": [
    {
     "data": {
      "text/plain": [
       "<langgraph.graph.state.StateGraph at 0x2685e7d3790>"
      ]
     },
     "execution_count": 7,
     "metadata": {},
     "output_type": "execute_result"
    }
   ],
   "source": [
    "flow = StateGraph(AgentState)\n",
    "flow.add_node(\"AI Assistant\", ai_asssitant)\n",
    "flow.add_node(\"Retriever\", retriever_node)\n",
    "flow.add_node(\"Rewrite\", rewrite)\n",
    "flow.add_node(\"Generate\", generate)"
   ]
  },
  {
   "cell_type": "code",
   "execution_count": 8,
   "metadata": {},
   "outputs": [
    {
     "data": {
      "text/plain": [
       "<langgraph.graph.state.StateGraph at 0x2685e7d3790>"
      ]
     },
     "execution_count": 8,
     "metadata": {},
     "output_type": "execute_result"
    }
   ],
   "source": [
    "flow.add_edge(START, \"AI Assistant\")\n",
    "flow.add_conditional_edges(\n",
    "    \"AI Assistant\", tools_condition, {\"tools\": \"Retriever\", END: END}\n",
    ")"
   ]
  },
  {
   "cell_type": "code",
   "execution_count": 9,
   "metadata": {},
   "outputs": [
    {
     "data": {
      "text/plain": [
       "<langgraph.graph.state.StateGraph at 0x2685e7d3790>"
      ]
     },
     "execution_count": 9,
     "metadata": {},
     "output_type": "execute_result"
    }
   ],
   "source": [
    "flow.add_conditional_edges(\n",
    "    \"Retriever\", grade_documents, {\"rewriter\": \"Rewrite\", \"generator\": \"Generate\"}\n",
    ")"
   ]
  },
  {
   "cell_type": "code",
   "execution_count": 10,
   "metadata": {},
   "outputs": [
    {
     "data": {
      "text/plain": [
       "<langgraph.graph.state.StateGraph at 0x2685e7d3790>"
      ]
     },
     "execution_count": 10,
     "metadata": {},
     "output_type": "execute_result"
    }
   ],
   "source": [
    "flow.add_edge(\"Generate\", END)\n",
    "flow.add_edge(\"Rewrite\", \"AI Assistant\")"
   ]
  },
  {
   "cell_type": "code",
   "execution_count": 11,
   "metadata": {},
   "outputs": [
    {
     "data": {
      "image/png": "[encoded data removed]",
      "text/plain": [
       "<IPython.core.display.Image object>"
      ]
     },
     "metadata": {},
     "output_type": "display_data"
    }
   ],
   "source": [
    "app = flow.compile()\n",
    "from IPython.display import Image, display\n",
    "\n",
    "try:\n",
    "    display(Image(app.get_graph(xray=True).draw_mermaid_png()))\n",
    "except Exception:\n",
    "    # This requires some extra dependencies and is optional\n",
    "    pass"
   ]
  },
  {
   "cell_type": "code",
   "execution_count": 12,
   "metadata": {},
   "outputs": [
    {
     "name": "stdout",
     "output_type": "stream",
     "text": [
      "CALL AGENT AI Assitance....\n",
      "initla query in ai assistant  [HumanMessage(content='What is Java?', additional_kwargs={}, response_metadata={}, id='6c39846a-e867-42b4-9ee3-a32d6a42e324')]\n",
      "LLM WITH TOOL  bound=ChatGroq(client=<groq.resources.chat.completions.Completions object at 0x0000026859BAFBE0>, async_client=<groq.resources.chat.completions.AsyncCompletions object at 0x0000026859BBD8B0>, model_name='gemma2-9b-it', model_kwargs={}, groq_api_key=SecretStr('**********')) kwargs={'tools': [{'type': 'function', 'function': {'name': 'retrieve_javainfo', 'description': 'Search for information about Java. For any questions about Java, you must use this tool!', 'parameters': {'properties': {'query': {'description': 'query to look up in retriever', 'type': 'string'}}, 'required': ['query'], 'type': 'object'}}}, {'type': 'function', 'function': {'name': 'pdf_retriever', 'description': 'Search for the Information from PDF documents. For any questions about PDF, you must use this tool!', 'parameters': {'properties': {'query': {'description': 'query to look up in retriever', 'type': 'string'}}, 'required': ['query'], 'type': 'object'}}}]} config={} config_factories=[]\n",
      "response of in ai assistant from llm with tools content='' additional_kwargs={'tool_calls': [{'id': 'call_jdf7', 'function': {'arguments': '{\"query\":\"What is Java?\"}', 'name': 'retrieve_javainfo'}, 'type': 'function'}]} response_metadata={'token_usage': {'completion_tokens': 86, 'prompt_tokens': 1099, 'total_tokens': 1185, 'completion_time': 0.156363636, 'prompt_time': 0.044504241, 'queue_time': 0.020655127999999995, 'total_time': 0.200867877}, 'model_name': 'gemma2-9b-it', 'system_fingerprint': 'fp_10c08bf97d', 'finish_reason': 'tool_calls', 'logprobs': None} id='run-5624866e-02dd-4d20-ab4d-bda417d9128d-0' tool_calls=[{'name': 'retrieve_javainfo', 'args': {'query': 'What is Java?'}, 'id': 'call_jdf7', 'type': 'tool_call'}] usage_metadata={'input_tokens': 1099, 'output_tokens': 86, 'total_tokens': 1185}\n",
      "score in Grade Documents  yes\n",
      "---DECISION: DOCS RELEVANT---\n",
      "GENERATE Based on the Relevent Docs fetched from the Retriever....\n",
      "Messages in Generate  [HumanMessage(content='What is Java?', additional_kwargs={}, response_metadata={}, id='6c39846a-e867-42b4-9ee3-a32d6a42e324'), AIMessage(content='', additional_kwargs={'tool_calls': [{'id': 'call_jdf7', 'function': {'arguments': '{\"query\":\"What is Java?\"}', 'name': 'retrieve_javainfo'}, 'type': 'function'}]}, response_metadata={'token_usage': {'completion_tokens': 86, 'prompt_tokens': 1099, 'total_tokens': 1185, 'completion_time': 0.156363636, 'prompt_time': 0.044504241, 'queue_time': 0.020655127999999995, 'total_time': 0.200867877}, 'model_name': 'gemma2-9b-it', 'system_fingerprint': 'fp_10c08bf97d', 'finish_reason': 'tool_calls', 'logprobs': None}, id='run-5624866e-02dd-4d20-ab4d-bda417d9128d-0', tool_calls=[{'name': 'retrieve_javainfo', 'args': {'query': 'What is Java?'}, 'id': 'call_jdf7', 'type': 'tool_call'}], usage_metadata={'input_tokens': 1099, 'output_tokens': 86, 'total_tokens': 1185}), ToolMessage(content='get() methodJava Instant getLong() methodJava Instant getEpochSecond() methodJava Instant equals() methodJava Instant atZone() methodJava Instant adjustInto() methodnext →Java TutorialOur core Java programming tutorial is designed for students and working professionals. Java is an object-oriented, class-based, concurrent, secured and general-purpose computer-programming language. It is a widely used robust technology.What is Java?Java is a programming language and a platform. Java is a\\n\\nplatform. Java is a high level, robust, object-oriented and secure programming language.Java was developed by Sun Microsystems (which is now the subsidiary of Oracle) in the year 1995. James Gosling is known as the father of Java. Before Java, its name was Oak. Since Oak was already a registered company, so James Gosling and his team changed the name from Oak to Java.Getting StartedBefore diving into coding, we will need to set up your development environment. Java\\n\\n(also known as Green Team), initiated this project to develop a language for digital devices such as set-top boxes, televisions, etc. However, it was best suited for internet programming. Later, Java technology was incorporated by Netscape.The principles for creating Java programming were \"Simple, Robust, Portable, Platform-independent, Secured, High Performance, Multithreaded, Architecture Neutral, Object-Oriented, Interpreted, and Dynamic\". Java was developed by James\\n\\nString, Regex, Exception, Inner classes, Multithreading, I/O Stream, Networking, AWT, Swing, Reflection, Collection, etc.2) Java EE (Java Enterprise Edition)It is an enterprise platform that is mainly used to develop web and enterprise applications. It is built on top of the Java SE platform. It includes topics like Servlet, JSP, Web Services, EJB, JPA, etc.3) Java ME (Java Micro', name='retrieve_javainfo', id='da4c094c-9291-4f42-b594-9dcb0eba5600', tool_call_id='call_jdf7')]\n",
      "Question  What is Java?\n",
      "Content  get() methodJava Instant getLong() methodJava Instant getEpochSecond() methodJava Instant equals() methodJava Instant atZone() methodJava Instant adjustInto() methodnext →Java TutorialOur core Java programming tutorial is designed for students and working professionals. Java is an object-oriented, class-based, concurrent, secured and general-purpose computer-programming language. It is a widely used robust technology.What is Java?Java is a programming language and a platform. Java is a\n",
      "\n",
      "platform. Java is a high level, robust, object-oriented and secure programming language.Java was developed by Sun Microsystems (which is now the subsidiary of Oracle) in the year 1995. James Gosling is known as the father of Java. Before Java, its name was Oak. Since Oak was already a registered company, so James Gosling and his team changed the name from Oak to Java.Getting StartedBefore diving into coding, we will need to set up your development environment. Java\n",
      "\n",
      "(also known as Green Team), initiated this project to develop a language for digital devices such as set-top boxes, televisions, etc. However, it was best suited for internet programming. Later, Java technology was incorporated by Netscape.The principles for creating Java programming were \"Simple, Robust, Portable, Platform-independent, Secured, High Performance, Multithreaded, Architecture Neutral, Object-Oriented, Interpreted, and Dynamic\". Java was developed by James\n",
      "\n",
      "String, Regex, Exception, Inner classes, Multithreading, I/O Stream, Networking, AWT, Swing, Reflection, Collection, etc.2) Java EE (Java Enterprise Edition)It is an enterprise platform that is mainly used to develop web and enterprise applications. It is built on top of the Java SE platform. It includes topics like Servlet, JSP, Web Services, EJB, JPA, etc.3) Java ME (Java Micro\n"
     ]
    },
    {
     "name": "stderr",
     "output_type": "stream",
     "text": [
      "c:\\Repos\\QMigrator_AI\\.venv\\lib\\site-packages\\langsmith\\client.py:256: LangSmithMissingAPIKeyWarning: API key must be provided when using hosted LangSmith API\n",
      "  warnings.warn(\n"
     ]
    },
    {
     "name": "stdout",
     "output_type": "stream",
     "text": [
      "Response in Generate  Java is a high-level, robust, object-oriented and secure programming language.  It is a platform that was developed by Sun Microsystems (now Oracle) and is widely used for internet programming.  Java was originally called Oak before being renamed.  \n",
      "\n",
      "\n",
      "\n"
     ]
    },
    {
     "data": {
      "text/plain": [
       "{'messages': [HumanMessage(content='What is Java?', additional_kwargs={}, response_metadata={}, id='6c39846a-e867-42b4-9ee3-a32d6a42e324'),\n",
       "  AIMessage(content='', additional_kwargs={'tool_calls': [{'id': 'call_jdf7', 'function': {'arguments': '{\"query\":\"What is Java?\"}', 'name': 'retrieve_javainfo'}, 'type': 'function'}]}, response_metadata={'token_usage': {'completion_tokens': 86, 'prompt_tokens': 1099, 'total_tokens': 1185, 'completion_time': 0.156363636, 'prompt_time': 0.044504241, 'queue_time': 0.020655127999999995, 'total_time': 0.200867877}, 'model_name': 'gemma2-9b-it', 'system_fingerprint': 'fp_10c08bf97d', 'finish_reason': 'tool_calls', 'logprobs': None}, id='run-5624866e-02dd-4d20-ab4d-bda417d9128d-0', tool_calls=[{'name': 'retrieve_javainfo', 'args': {'query': 'What is Java?'}, 'id': 'call_jdf7', 'type': 'tool_call'}], usage_metadata={'input_tokens': 1099, 'output_tokens': 86, 'total_tokens': 1185}),\n",
       "  ToolMessage(content='get() methodJava Instant getLong() methodJava Instant getEpochSecond() methodJava Instant equals() methodJava Instant atZone() methodJava Instant adjustInto() methodnext →Java TutorialOur core Java programming tutorial is designed for students and working professionals. Java is an object-oriented, class-based, concurrent, secured and general-purpose computer-programming language. It is a widely used robust technology.What is Java?Java is a programming language and a platform. Java is a\\n\\nplatform. Java is a high level, robust, object-oriented and secure programming language.Java was developed by Sun Microsystems (which is now the subsidiary of Oracle) in the year 1995. James Gosling is known as the father of Java. Before Java, its name was Oak. Since Oak was already a registered company, so James Gosling and his team changed the name from Oak to Java.Getting StartedBefore diving into coding, we will need to set up your development environment. Java\\n\\n(also known as Green Team), initiated this project to develop a language for digital devices such as set-top boxes, televisions, etc. However, it was best suited for internet programming. Later, Java technology was incorporated by Netscape.The principles for creating Java programming were \"Simple, Robust, Portable, Platform-independent, Secured, High Performance, Multithreaded, Architecture Neutral, Object-Oriented, Interpreted, and Dynamic\". Java was developed by James\\n\\nString, Regex, Exception, Inner classes, Multithreading, I/O Stream, Networking, AWT, Swing, Reflection, Collection, etc.2) Java EE (Java Enterprise Edition)It is an enterprise platform that is mainly used to develop web and enterprise applications. It is built on top of the Java SE platform. It includes topics like Servlet, JSP, Web Services, EJB, JPA, etc.3) Java ME (Java Micro', name='retrieve_javainfo', id='da4c094c-9291-4f42-b594-9dcb0eba5600', tool_call_id='call_jdf7'),\n",
       "  HumanMessage(content='Java is a high-level, robust, object-oriented and secure programming language.  It is a platform that was developed by Sun Microsystems (now Oracle) and is widely used for internet programming.  Java was originally called Oak before being renamed.  \\n\\n\\n', additional_kwargs={}, response_metadata={}, id='74d8d510-29c5-4789-befc-03feb5d4f5d7')]}"
      ]
     },
     "execution_count": 12,
     "metadata": {},
     "output_type": "execute_result"
    }
   ],
   "source": [
    "app.invoke({\"messages\": [\"What is Java?\"]})"
   ]
  },
  {
   "cell_type": "code",
   "execution_count": 13,
   "metadata": {},
   "outputs": [
    {
     "name": "stdout",
     "output_type": "stream",
     "text": [
      "CALL AGENT AI Assitance....\n",
      "initla query in ai assistant  [HumanMessage(content='who is a current prime minister of india?', additional_kwargs={}, response_metadata={}, id='417d3a0d-bfef-4982-a0d9-f92d23e51ce2')]\n",
      "LLM WITH TOOL  bound=ChatGroq(client=<groq.resources.chat.completions.Completions object at 0x0000026859BAFBE0>, async_client=<groq.resources.chat.completions.AsyncCompletions object at 0x0000026859BBD8B0>, model_name='gemma2-9b-it', model_kwargs={}, groq_api_key=SecretStr('**********')) kwargs={'tools': [{'type': 'function', 'function': {'name': 'retrieve_javainfo', 'description': 'Search for information about Java. For any questions about Java, you must use this tool!', 'parameters': {'properties': {'query': {'description': 'query to look up in retriever', 'type': 'string'}}, 'required': ['query'], 'type': 'object'}}}, {'type': 'function', 'function': {'name': 'pdf_retriever', 'description': 'Search for the Information from PDF documents. For any questions about PDF, you must use this tool!', 'parameters': {'properties': {'query': {'description': 'query to look up in retriever', 'type': 'string'}}, 'required': ['query'], 'type': 'object'}}}]} config={} config_factories=[]\n",
      "response of in ai assistant from llm with tools content='' additional_kwargs={'tool_calls': [{'id': 'call_k3nk', 'function': {'arguments': '{\"query\":\"Who is the current prime minister of India?\"}', 'name': 'retrieve_javainfo'}, 'type': 'function'}]} response_metadata={'token_usage': {'completion_tokens': 89, 'prompt_tokens': 1104, 'total_tokens': 1193, 'completion_time': 0.161818182, 'prompt_time': 0.068515, 'queue_time': 0.021477702999999987, 'total_time': 0.230333182}, 'model_name': 'gemma2-9b-it', 'system_fingerprint': 'fp_10c08bf97d', 'finish_reason': 'tool_calls', 'logprobs': None} id='run-1ad7bff6-e5a8-48c9-92b8-68142e4e7052-0' tool_calls=[{'name': 'retrieve_javainfo', 'args': {'query': 'Who is the current prime minister of India?'}, 'id': 'call_k3nk', 'type': 'tool_call'}] usage_metadata={'input_tokens': 1104, 'output_tokens': 89, 'total_tokens': 1193}\n",
      "score in Grade Documents  no\n",
      "---DECISION: DOCS NOT RELEVANT---\n",
      "TRANSFORM QUERY....\n",
      "CALL AGENT AI Assitance....\n",
      "initla query in ai assistant  [HumanMessage(content='who is a current prime minister of india?', additional_kwargs={}, response_metadata={}, id='417d3a0d-bfef-4982-a0d9-f92d23e51ce2'), AIMessage(content='', additional_kwargs={'tool_calls': [{'id': 'call_k3nk', 'function': {'arguments': '{\"query\":\"Who is the current prime minister of India?\"}', 'name': 'retrieve_javainfo'}, 'type': 'function'}]}, response_metadata={'token_usage': {'completion_tokens': 89, 'prompt_tokens': 1104, 'total_tokens': 1193, 'completion_time': 0.161818182, 'prompt_time': 0.068515, 'queue_time': 0.021477702999999987, 'total_time': 0.230333182}, 'model_name': 'gemma2-9b-it', 'system_fingerprint': 'fp_10c08bf97d', 'finish_reason': 'tool_calls', 'logprobs': None}, id='run-1ad7bff6-e5a8-48c9-92b8-68142e4e7052-0', tool_calls=[{'name': 'retrieve_javainfo', 'args': {'query': 'Who is the current prime minister of India?'}, 'id': 'call_k3nk', 'type': 'tool_call'}], usage_metadata={'input_tokens': 1104, 'output_tokens': 89, 'total_tokens': 1193}), ToolMessage(content='blePrime()longValue()max()min()mod()modInverse()modPow()negate()nextProbablePrime()not()or()pow()pro\\n\\nblePrime()longValue()max()min()mod()modInverse()modPow()negate()nextProbablePrime()not()or()pow()pro\\n\\n(19th Feb 1997)J2SE 1.2 (8th Dec 1998)J2SE 1.3 (8th May 2000)J2SE 1.4 (6th Feb 2002)J2SE 5.0 (30th Sep 2004)Java SE 6 (11th Dec 2006)Java SE 7 (28th July 2011)Java SE 8 (18th Mar 2014)Java SE 9 (21st Sep 2017)Java SE 10 (20th Mar 2018)Java\\n\\nJavaMystery Number in JavaSmith Number in JavaStrontio Number in JavaXylem and Phloem Number in Javanth Prime Number JavaJava Program to Display Alternate Prime NumbersJava Program to Find Square Root of a Number Without sqrt MethodJava Program to Swap Two Numbers Using Bitwise OperatorJava Program to Find GCD of Two NumbersJava Program to Find Largest of Three NumbersJava Program to Find Smallest of Three Numbers Using Ternary OperatorJava Program to Check if a', name='retrieve_javainfo', id='d81201fb-11ce-4167-811e-3321a65fd033', tool_call_id='call_k3nk'), AIMessage(content='The intent of the question \"who is a current prime minister of india?\" is to find out the name of the person currently holding the office of Prime Minister in India. \\n\\nHere are a few ways to formulate an improved question:\\n\\n* **What is the name of the current Prime Minister of India?** (More concise and direct)\\n* **Who is the incumbent Prime Minister of India?** (More formal)\\n* **Can you tell me the current Prime Minister of India?** (More conversational) \\n\\n\\nThese improvements clarify the request and make it easier to understand the desired information. \\n\\n', additional_kwargs={}, response_metadata={'token_usage': {'completion_tokens': 127, 'prompt_tokens': 72, 'total_tokens': 199, 'completion_time': 0.230909091, 'prompt_time': 0.002138131, 'queue_time': 0.022315638999999998, 'total_time': 0.233047222}, 'model_name': 'gemma2-9b-it', 'system_fingerprint': 'fp_10c08bf97d', 'finish_reason': 'stop', 'logprobs': None}, id='run-140d0e56-2aef-4b09-a2e6-204fa38947cf-0', usage_metadata={'input_tokens': 72, 'output_tokens': 127, 'total_tokens': 199})]\n",
      "LLM WITH TOOL  bound=ChatGroq(client=<groq.resources.chat.completions.Completions object at 0x0000026859BAFBE0>, async_client=<groq.resources.chat.completions.AsyncCompletions object at 0x0000026859BBD8B0>, model_name='gemma2-9b-it', model_kwargs={}, groq_api_key=SecretStr('**********')) kwargs={'tools': [{'type': 'function', 'function': {'name': 'retrieve_javainfo', 'description': 'Search for information about Java. For any questions about Java, you must use this tool!', 'parameters': {'properties': {'query': {'description': 'query to look up in retriever', 'type': 'string'}}, 'required': ['query'], 'type': 'object'}}}, {'type': 'function', 'function': {'name': 'pdf_retriever', 'description': 'Search for the Information from PDF documents. For any questions about PDF, you must use this tool!', 'parameters': {'properties': {'query': {'description': 'query to look up in retriever', 'type': 'string'}}, 'required': ['query'], 'type': 'object'}}}]} config={} config_factories=[]\n",
      "response of in ai assistant from llm with tools content='' additional_kwargs={} response_metadata={'token_usage': {'completion_tokens': 2, 'prompt_tokens': 1620, 'total_tokens': 1622, 'completion_time': 0.003636364, 'prompt_time': 0.057969479, 'queue_time': -9223372036.912746, 'total_time': 0.061605843}, 'model_name': 'gemma2-9b-it', 'system_fingerprint': 'fp_10c08bf97d', 'finish_reason': 'stop', 'logprobs': None} id='run-b7ff2257-1c0c-4eeb-94be-eb928b055e36-0' usage_metadata={'input_tokens': 1620, 'output_tokens': 2, 'total_tokens': 1622}\n"
     ]
    },
    {
     "data": {
      "text/plain": [
       "{'messages': [HumanMessage(content='who is a current prime minister of india?', additional_kwargs={}, response_metadata={}, id='417d3a0d-bfef-4982-a0d9-f92d23e51ce2'),\n",
       "  AIMessage(content='', additional_kwargs={'tool_calls': [{'id': 'call_k3nk', 'function': {'arguments': '{\"query\":\"Who is the current prime minister of India?\"}', 'name': 'retrieve_javainfo'}, 'type': 'function'}]}, response_metadata={'token_usage': {'completion_tokens': 89, 'prompt_tokens': 1104, 'total_tokens': 1193, 'completion_time': 0.161818182, 'prompt_time': 0.068515, 'queue_time': 0.021477702999999987, 'total_time': 0.230333182}, 'model_name': 'gemma2-9b-it', 'system_fingerprint': 'fp_10c08bf97d', 'finish_reason': 'tool_calls', 'logprobs': None}, id='run-1ad7bff6-e5a8-48c9-92b8-68142e4e7052-0', tool_calls=[{'name': 'retrieve_javainfo', 'args': {'query': 'Who is the current prime minister of India?'}, 'id': 'call_k3nk', 'type': 'tool_call'}], usage_metadata={'input_tokens': 1104, 'output_tokens': 89, 'total_tokens': 1193}),\n",
       "  ToolMessage(content='blePrime()longValue()max()min()mod()modInverse()modPow()negate()nextProbablePrime()not()or()pow()pro\\n\\nblePrime()longValue()max()min()mod()modInverse()modPow()negate()nextProbablePrime()not()or()pow()pro\\n\\n(19th Feb 1997)J2SE 1.2 (8th Dec 1998)J2SE 1.3 (8th May 2000)J2SE 1.4 (6th Feb 2002)J2SE 5.0 (30th Sep 2004)Java SE 6 (11th Dec 2006)Java SE 7 (28th July 2011)Java SE 8 (18th Mar 2014)Java SE 9 (21st Sep 2017)Java SE 10 (20th Mar 2018)Java\\n\\nJavaMystery Number in JavaSmith Number in JavaStrontio Number in JavaXylem and Phloem Number in Javanth Prime Number JavaJava Program to Display Alternate Prime NumbersJava Program to Find Square Root of a Number Without sqrt MethodJava Program to Swap Two Numbers Using Bitwise OperatorJava Program to Find GCD of Two NumbersJava Program to Find Largest of Three NumbersJava Program to Find Smallest of Three Numbers Using Ternary OperatorJava Program to Check if a', name='retrieve_javainfo', id='d81201fb-11ce-4167-811e-3321a65fd033', tool_call_id='call_k3nk'),\n",
       "  AIMessage(content='The intent of the question \"who is a current prime minister of india?\" is to find out the name of the person currently holding the office of Prime Minister in India. \\n\\nHere are a few ways to formulate an improved question:\\n\\n* **What is the name of the current Prime Minister of India?** (More concise and direct)\\n* **Who is the incumbent Prime Minister of India?** (More formal)\\n* **Can you tell me the current Prime Minister of India?** (More conversational) \\n\\n\\nThese improvements clarify the request and make it easier to understand the desired information. \\n\\n', additional_kwargs={}, response_metadata={'token_usage': {'completion_tokens': 127, 'prompt_tokens': 72, 'total_tokens': 199, 'completion_time': 0.230909091, 'prompt_time': 0.002138131, 'queue_time': 0.022315638999999998, 'total_time': 0.233047222}, 'model_name': 'gemma2-9b-it', 'system_fingerprint': 'fp_10c08bf97d', 'finish_reason': 'stop', 'logprobs': None}, id='run-140d0e56-2aef-4b09-a2e6-204fa38947cf-0', usage_metadata={'input_tokens': 72, 'output_tokens': 127, 'total_tokens': 199}),\n",
       "  AIMessage(content='', additional_kwargs={}, response_metadata={'token_usage': {'completion_tokens': 2, 'prompt_tokens': 1620, 'total_tokens': 1622, 'completion_time': 0.003636364, 'prompt_time': 0.057969479, 'queue_time': -9223372036.912746, 'total_time': 0.061605843}, 'model_name': 'gemma2-9b-it', 'system_fingerprint': 'fp_10c08bf97d', 'finish_reason': 'stop', 'logprobs': None}, id='run-b7ff2257-1c0c-4eeb-94be-eb928b055e36-0', usage_metadata={'input_tokens': 1620, 'output_tokens': 2, 'total_tokens': 1622})]}"
      ]
     },
     "execution_count": 13,
     "metadata": {},
     "output_type": "execute_result"
    }
   ],
   "source": [
    "app.invoke({\"messages\": [\"who is a current prime minister of india?\"]})"
   ]
  },
  {
   "cell_type": "code",
   "execution_count": 14,
   "metadata": {},
   "outputs": [
    {
     "name": "stdout",
     "output_type": "stream",
     "text": [
      "CALL AGENT AI Assitance....\n",
      "initla query in ai assistant  [HumanMessage(content='Working as Technical Analyst in Quadrant Technologies from which date?', additional_kwargs={}, response_metadata={}, id='41254b72-3a5a-4452-af06-512d0e42ce6f')]\n",
      "LLM WITH TOOL  bound=ChatGroq(client=<groq.resources.chat.completions.Completions object at 0x0000026859BAFBE0>, async_client=<groq.resources.chat.completions.AsyncCompletions object at 0x0000026859BBD8B0>, model_name='gemma2-9b-it', model_kwargs={}, groq_api_key=SecretStr('**********')) kwargs={'tools': [{'type': 'function', 'function': {'name': 'retrieve_javainfo', 'description': 'Search for information about Java. For any questions about Java, you must use this tool!', 'parameters': {'properties': {'query': {'description': 'query to look up in retriever', 'type': 'string'}}, 'required': ['query'], 'type': 'object'}}}, {'type': 'function', 'function': {'name': 'pdf_retriever', 'description': 'Search for the Information from PDF documents. For any questions about PDF, you must use this tool!', 'parameters': {'properties': {'query': {'description': 'query to look up in retriever', 'type': 'string'}}, 'required': ['query'], 'type': 'object'}}}]} config={} config_factories=[]\n",
      "response of in ai assistant from llm with tools content='' additional_kwargs={'tool_calls': [{'id': 'call_7qfy', 'function': {'arguments': '{\"query\":\"Working as Technical Analyst in Quadrant Technologies from which date?\"}', 'name': 'retrieve_javainfo'}, 'type': 'function'}]} response_metadata={'token_usage': {'completion_tokens': 93, 'prompt_tokens': 1106, 'total_tokens': 1199, 'completion_time': 0.169090909, 'prompt_time': 0.035493966, 'queue_time': 0.022564313999999995, 'total_time': 0.204584875}, 'model_name': 'gemma2-9b-it', 'system_fingerprint': 'fp_10c08bf97d', 'finish_reason': 'tool_calls', 'logprobs': None} id='run-32815561-7561-407a-9e75-b5593250c81e-0' tool_calls=[{'name': 'retrieve_javainfo', 'args': {'query': 'Working as Technical Analyst in Quadrant Technologies from which date?'}, 'id': 'call_7qfy', 'type': 'tool_call'}] usage_metadata={'input_tokens': 1106, 'output_tokens': 93, 'total_tokens': 1199}\n",
      "score in Grade Documents  no\n",
      "---DECISION: DOCS NOT RELEVANT---\n",
      "TRANSFORM QUERY....\n",
      "CALL AGENT AI Assitance....\n",
      "initla query in ai assistant  [HumanMessage(content='Working as Technical Analyst in Quadrant Technologies from which date?', additional_kwargs={}, response_metadata={}, id='41254b72-3a5a-4452-af06-512d0e42ce6f'), AIMessage(content='', additional_kwargs={'tool_calls': [{'id': 'call_7qfy', 'function': {'arguments': '{\"query\":\"Working as Technical Analyst in Quadrant Technologies from which date?\"}', 'name': 'retrieve_javainfo'}, 'type': 'function'}]}, response_metadata={'token_usage': {'completion_tokens': 93, 'prompt_tokens': 1106, 'total_tokens': 1199, 'completion_time': 0.169090909, 'prompt_time': 0.035493966, 'queue_time': 0.022564313999999995, 'total_time': 0.204584875}, 'model_name': 'gemma2-9b-it', 'system_fingerprint': 'fp_10c08bf97d', 'finish_reason': 'tool_calls', 'logprobs': None}, id='run-32815561-7561-407a-9e75-b5593250c81e-0', tool_calls=[{'name': 'retrieve_javainfo', 'args': {'query': 'Working as Technical Analyst in Quadrant Technologies from which date?'}, 'id': 'call_7qfy', 'type': 'tool_call'}], usage_metadata={'input_tokens': 1106, 'output_tokens': 93, 'total_tokens': 1199}), ToolMessage(content=\"(19th Feb 1997)J2SE 1.2 (8th Dec 1998)J2SE 1.3 (8th May 2000)J2SE 1.4 (6th Feb 2002)J2SE 5.0 (30th Sep 2004)Java SE 6 (11th Dec 2006)Java SE 7 (28th July 2011)Java SE 8 (18th Mar 2014)Java SE 9 (21st Sep 2017)Java SE 10 (20th Mar 2018)Java\\n\\nMar 2018)Java SE 11 (September 2018)Java SE 12 (March 2019)Java SE 13 (September 2019)Java SE 14 (Mar 2020)Java SE 15 (September 2020)Java SE 16 (Mar 2021)Java SE 17 (September 2021)Java SE 18 (to be released by March 2022)Since Java SE 8 release, the Oracle corporation follows a pattern in which every even version is release in March month and an odd version released in September month.More Details on Java\\n\\nHistory of Java - javatpointTutorials×PythonPython Django Numpy Pandas Tkinter Pytorch Flask OpenCVAI, ML and Data ScienceArtificial Intelligence Machine Learning Data Science Deep Learning TensorFlow Artificial Neural Network Matplotlib Python ScipyJavaJava Servlet JSP Spring Boot Spring Framework Hibernate JavaFX Java Web ServicesB.Tech and MCADBMS Data Structures Operating System Computer Network DAA Computer Organization Software Engineering Data MiningWeb\\n\\nDate by No of Days in JavaAdvantages of Lambda Expression in Java 8Cast Generic Type to Specific type JavaConcurrentSkipListSet in JavaFail Fast Vs. Fail-Safe in JavaGet Yesterday's Date in Milliseconds JavaGet Yesterday's Date Using Date Class JavaGetting First Date of Month in JavaGregorian Calendar Java Current DateHow to Calculate Time Difference Between Two Dates in JavaHow to Calculate Week Number from Current Date in JavaKeystore vs TruststoreLeap Year\", name='retrieve_javainfo', id='d5336312-208f-4d3a-b035-7132c948103b', tool_call_id='call_7qfy'), AIMessage(content='The original question is a bit abrupt and lacks context. Here are a few improved versions, each with a slightly different focus:\\n\\n**More conversational:**\\n\\n* \"When did you start working as a Technical Analyst at Quadrant Technologies?\"\\n* \"Can you tell me your start date as a Technical Analyst at Quadrant Technologies?\"\\n\\n**Focusing on a specific time period:**\\n\\n* \"What is your employment history as a Technical Analyst at Quadrant Technologies?  Specifically, when did you begin this role?\"\\n\\n**Assuming a resume or CV context:**\\n\\n* \"Please indicate your start date for the Technical Analyst position at Quadrant Technologies on your resume.\"\\n\\n\\nThese variations are more polite, provide more context, and are easier to understand. \\n\\n', additional_kwargs={}, response_metadata={'token_usage': {'completion_tokens': 150, 'prompt_tokens': 74, 'total_tokens': 224, 'completion_time': 0.272727273, 'prompt_time': 0.002146862, 'queue_time': 0.020652687, 'total_time': 0.274874135}, 'model_name': 'gemma2-9b-it', 'system_fingerprint': 'fp_10c08bf97d', 'finish_reason': 'stop', 'logprobs': None}, id='run-bd72b216-95e3-4380-b677-fe272dcb6b78-0', usage_metadata={'input_tokens': 74, 'output_tokens': 150, 'total_tokens': 224})]\n",
      "LLM WITH TOOL  bound=ChatGroq(client=<groq.resources.chat.completions.Completions object at 0x0000026859BAFBE0>, async_client=<groq.resources.chat.completions.AsyncCompletions object at 0x0000026859BBD8B0>, model_name='gemma2-9b-it', model_kwargs={}, groq_api_key=SecretStr('**********')) kwargs={'tools': [{'type': 'function', 'function': {'name': 'retrieve_javainfo', 'description': 'Search for information about Java. For any questions about Java, you must use this tool!', 'parameters': {'properties': {'query': {'description': 'query to look up in retriever', 'type': 'string'}}, 'required': ['query'], 'type': 'object'}}}, {'type': 'function', 'function': {'name': 'pdf_retriever', 'description': 'Search for the Information from PDF documents. For any questions about PDF, you must use this tool!', 'parameters': {'properties': {'query': {'description': 'query to look up in retriever', 'type': 'string'}}, 'required': ['query'], 'type': 'object'}}}]} config={} config_factories=[]\n",
      "response of in ai assistant from llm with tools content=\"Let me know if you'd like to explore other ways to phrase the question.\\n\" additional_kwargs={} response_metadata={'token_usage': {'completion_tokens': 20, 'prompt_tokens': 1821, 'total_tokens': 1841, 'completion_time': 0.036363636, 'prompt_time': 0.064849794, 'queue_time': 0.023753998, 'total_time': 0.10121343}, 'model_name': 'gemma2-9b-it', 'system_fingerprint': 'fp_10c08bf97d', 'finish_reason': 'stop', 'logprobs': None} id='run-5a165eff-3e92-415d-8a3d-5564bfe06013-0' usage_metadata={'input_tokens': 1821, 'output_tokens': 20, 'total_tokens': 1841}\n"
     ]
    },
    {
     "data": {
      "text/plain": [
       "{'messages': [HumanMessage(content='Working as Technical Analyst in Quadrant Technologies from which date?', additional_kwargs={}, response_metadata={}, id='41254b72-3a5a-4452-af06-512d0e42ce6f'),\n",
       "  AIMessage(content='', additional_kwargs={'tool_calls': [{'id': 'call_7qfy', 'function': {'arguments': '{\"query\":\"Working as Technical Analyst in Quadrant Technologies from which date?\"}', 'name': 'retrieve_javainfo'}, 'type': 'function'}]}, response_metadata={'token_usage': {'completion_tokens': 93, 'prompt_tokens': 1106, 'total_tokens': 1199, 'completion_time': 0.169090909, 'prompt_time': 0.035493966, 'queue_time': 0.022564313999999995, 'total_time': 0.204584875}, 'model_name': 'gemma2-9b-it', 'system_fingerprint': 'fp_10c08bf97d', 'finish_reason': 'tool_calls', 'logprobs': None}, id='run-32815561-7561-407a-9e75-b5593250c81e-0', tool_calls=[{'name': 'retrieve_javainfo', 'args': {'query': 'Working as Technical Analyst in Quadrant Technologies from which date?'}, 'id': 'call_7qfy', 'type': 'tool_call'}], usage_metadata={'input_tokens': 1106, 'output_tokens': 93, 'total_tokens': 1199}),\n",
       "  ToolMessage(content=\"(19th Feb 1997)J2SE 1.2 (8th Dec 1998)J2SE 1.3 (8th May 2000)J2SE 1.4 (6th Feb 2002)J2SE 5.0 (30th Sep 2004)Java SE 6 (11th Dec 2006)Java SE 7 (28th July 2011)Java SE 8 (18th Mar 2014)Java SE 9 (21st Sep 2017)Java SE 10 (20th Mar 2018)Java\\n\\nMar 2018)Java SE 11 (September 2018)Java SE 12 (March 2019)Java SE 13 (September 2019)Java SE 14 (Mar 2020)Java SE 15 (September 2020)Java SE 16 (Mar 2021)Java SE 17 (September 2021)Java SE 18 (to be released by March 2022)Since Java SE 8 release, the Oracle corporation follows a pattern in which every even version is release in March month and an odd version released in September month.More Details on Java\\n\\nHistory of Java - javatpointTutorials×PythonPython Django Numpy Pandas Tkinter Pytorch Flask OpenCVAI, ML and Data ScienceArtificial Intelligence Machine Learning Data Science Deep Learning TensorFlow Artificial Neural Network Matplotlib Python ScipyJavaJava Servlet JSP Spring Boot Spring Framework Hibernate JavaFX Java Web ServicesB.Tech and MCADBMS Data Structures Operating System Computer Network DAA Computer Organization Software Engineering Data MiningWeb\\n\\nDate by No of Days in JavaAdvantages of Lambda Expression in Java 8Cast Generic Type to Specific type JavaConcurrentSkipListSet in JavaFail Fast Vs. Fail-Safe in JavaGet Yesterday's Date in Milliseconds JavaGet Yesterday's Date Using Date Class JavaGetting First Date of Month in JavaGregorian Calendar Java Current DateHow to Calculate Time Difference Between Two Dates in JavaHow to Calculate Week Number from Current Date in JavaKeystore vs TruststoreLeap Year\", name='retrieve_javainfo', id='d5336312-208f-4d3a-b035-7132c948103b', tool_call_id='call_7qfy'),\n",
       "  AIMessage(content='The original question is a bit abrupt and lacks context. Here are a few improved versions, each with a slightly different focus:\\n\\n**More conversational:**\\n\\n* \"When did you start working as a Technical Analyst at Quadrant Technologies?\"\\n* \"Can you tell me your start date as a Technical Analyst at Quadrant Technologies?\"\\n\\n**Focusing on a specific time period:**\\n\\n* \"What is your employment history as a Technical Analyst at Quadrant Technologies?  Specifically, when did you begin this role?\"\\n\\n**Assuming a resume or CV context:**\\n\\n* \"Please indicate your start date for the Technical Analyst position at Quadrant Technologies on your resume.\"\\n\\n\\nThese variations are more polite, provide more context, and are easier to understand. \\n\\n', additional_kwargs={}, response_metadata={'token_usage': {'completion_tokens': 150, 'prompt_tokens': 74, 'total_tokens': 224, 'completion_time': 0.272727273, 'prompt_time': 0.002146862, 'queue_time': 0.020652687, 'total_time': 0.274874135}, 'model_name': 'gemma2-9b-it', 'system_fingerprint': 'fp_10c08bf97d', 'finish_reason': 'stop', 'logprobs': None}, id='run-bd72b216-95e3-4380-b677-fe272dcb6b78-0', usage_metadata={'input_tokens': 74, 'output_tokens': 150, 'total_tokens': 224}),\n",
       "  AIMessage(content=\"Let me know if you'd like to explore other ways to phrase the question.\\n\", additional_kwargs={}, response_metadata={'token_usage': {'completion_tokens': 20, 'prompt_tokens': 1821, 'total_tokens': 1841, 'completion_time': 0.036363636, 'prompt_time': 0.064849794, 'queue_time': 0.023753998, 'total_time': 0.10121343}, 'model_name': 'gemma2-9b-it', 'system_fingerprint': 'fp_10c08bf97d', 'finish_reason': 'stop', 'logprobs': None}, id='run-5a165eff-3e92-415d-8a3d-5564bfe06013-0', usage_metadata={'input_tokens': 1821, 'output_tokens': 20, 'total_tokens': 1841})]}"
      ]
     },
     "execution_count": 14,
     "metadata": {},
     "output_type": "execute_result"
    }
   ],
   "source": [
    "app.invoke(\n",
    "    {\n",
    "        \"messages\": [\n",
    "            \"Working as Technical Analyst in Quadrant Technologies from which date?\"\n",
    "        ]\n",
    "    }\n",
    ")"
   ]
  },
  {
   "cell_type": "code",
   "execution_count": null,
   "metadata": {},
   "outputs": [],
   "source": []
  }
 ],
 "metadata": {
  "kernelspec": {
   "display_name": ".venv",
   "language": "python",
   "name": "python3"
  },
  "language_info": {
   "codemirror_mode": {
    "name": "ipython",
    "version": 3
   },
   "file_extension": ".py",
   "mimetype": "text/x-python",
   "name": "python",
   "nbconvert_exporter": "python",
   "pygments_lexer": "ipython3",
   "version": "3.9.11"
  }
 },
 "nbformat": 4,
 "nbformat_minor": 2
}
